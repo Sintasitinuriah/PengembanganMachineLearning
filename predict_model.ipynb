{
 "cells": [
  {
   "cell_type": "code",
   "execution_count": 11,
   "metadata": {},
   "outputs": [],
   "source": [
    "import numpy as np\n",
    "import joblib\n",
    "from tensorflow.keras.models import load_model"
   ]
  },
  {
   "cell_type": "markdown",
   "metadata": {},
   "source": [
    "### Implementasi model .pkl"
   ]
  },
  {
   "cell_type": "markdown",
   "metadata": {},
   "source": [
    "model naive bayes"
   ]
  },
  {
   "cell_type": "code",
   "execution_count": 12,
   "metadata": {},
   "outputs": [
    {
     "name": "stdout",
     "output_type": "stream",
     "text": [
      "Teks: Aplikasinya jelek, pelayannanya kurang! -> Sentimen: Negatif\n",
      "Teks: Saya sangat puas dengan pelayanannya. -> Sentimen: Positif\n"
     ]
    }
   ],
   "source": [
    "# Muat TF-IDF vectorizer dan model\n",
    "tfidf_vectorizer = joblib.load('models/tfidf_vectorizer.pkl')\n",
    "\n",
    "model_nb = joblib.load('models/model_naive_bayes.pkl')\n",
    "\n",
    "# Kalimat baru untuk prediksi\n",
    "komentar_baru = [\"Aplikasinya jelek, pelayannanya kurang!\", \"Saya sangat puas dengan pelayanannya.\"]\n",
    "\n",
    "# Transformasi ke fitur TF-IDF\n",
    "X_new_tfidf = tfidf_vectorizer.transform(komentar_baru)\n",
    "\n",
    "# Prediksi\n",
    "predictions = model_nb.predict(X_new_tfidf)\n",
    "\n",
    "# Menampilkan hasil\n",
    "for text, label in zip(komentar_baru, predictions):\n",
    "    sentiment = \"Positif\" if label == 1 else \"Negatif\"\n",
    "    print(f\"Teks: {text} -> Sentimen: {sentiment}\")\n"
   ]
  },
  {
   "cell_type": "markdown",
   "metadata": {},
   "source": [
    "model logistic regression"
   ]
  },
  {
   "cell_type": "code",
   "execution_count": 14,
   "metadata": {},
   "outputs": [
    {
     "name": "stdout",
     "output_type": "stream",
     "text": [
      "Teks: Uang yang saya transfer telat terkirim -> Sentimen: Negatif\n",
      "Teks: Cepat banget kalo soal transfer -> Sentimen: Positif\n",
      "Teks: aplikasinya bagus cuyy! -> Sentimen: Positif\n",
      "Teks: Csnya gak bener sumpah, lama banget pelayanannya -> Sentimen: Negatif\n"
     ]
    }
   ],
   "source": [
    "# Muat TF-IDF vectorizer dan model\n",
    "tfidf_vectorizer = joblib.load('models/tfidf_vectorizer.pkl')\n",
    "\n",
    "model_lr = joblib.load('models/model_logistic_regression.pkl')\n",
    "\n",
    "# Kalimat baru untuk prediksi\n",
    "komentar_baru = [\"Uang yang saya transfer telat terkirim\", \"Cepat banget kalo soal transfer\", \"aplikasinya bagus cuyy!\", \"Csnya gak bener sumpah, lama banget pelayanannya\"]\n",
    "\n",
    "# Transformasi ke fitur TF-IDF\n",
    "X_new_tfidf = tfidf_vectorizer.transform(komentar_baru)\n",
    "\n",
    "# Prediksi\n",
    "predictions = model_lr.predict(X_new_tfidf)\n",
    "\n",
    "# Menampilkan hasil\n",
    "for text, label in zip(komentar_baru, predictions):\n",
    "    sentiment = \"Positif\" if label == 1 else \"Negatif\"\n",
    "    print(f\"Teks: {text} -> Sentimen: {sentiment}\")\n"
   ]
  },
  {
   "cell_type": "code",
   "execution_count": 17,
   "metadata": {},
   "outputs": [
    {
     "name": "stdout",
     "output_type": "stream",
     "text": [
      "Teks: Pelayanan yang sangat baik! -> Sentimen: Positif\n",
      "Teks: jelek banget aplikasinya! -> Sentimen: Negatif\n"
     ]
    }
   ],
   "source": [
    "# Fungsi rata-rata vektor kata (pastikan sama dengan saat training)\n",
    "def get_sentence_vector(sentence, model):\n",
    "    words = sentence.split()\n",
    "    word_vectors = [model.wv[word] for word in words if word in model.wv]\n",
    "    return np.mean(word_vectors, axis=0) if word_vectors else np.zeros(model.vector_size)\n",
    "\n",
    "# Muat kembali model Word2Vec\n",
    "from gensim.models import Word2Vec\n",
    "model_w2v = Word2Vec.load(\"models/model_w2v.model\")\n",
    "\n",
    "# Muat model MLP\n",
    "model_mlp = joblib.load('models/model_mlp.pkl')\n",
    "\n",
    "# Kalimat baru untuk prediksi\n",
    "new_texts = [\"Pelayanan yang sangat baik!\", \"jelek banget aplikasinya!\"]\n",
    "\n",
    "# Transformasi ke Word2Vec\n",
    "X_new_w2v = np.array([get_sentence_vector(text, model_w2v) for text in new_texts])\n",
    "\n",
    "# Prediksi\n",
    "predictions = model_mlp.predict(X_new_w2v)\n",
    "predicted_labels = (predictions > 0.5).astype(int)\n",
    "\n",
    "# Tampilkan hasil\n",
    "for text, label in zip(new_texts, predicted_labels):\n",
    "    sentiment = \"Positif\" if label == 1 else \"Negatif\"\n",
    "    print(f\"Teks: {text} -> Sentimen: {sentiment}\")\n"
   ]
  },
  {
   "cell_type": "markdown",
   "metadata": {},
   "source": [
    "### implementasi model .h5"
   ]
  },
  {
   "cell_type": "code",
   "execution_count": null,
   "metadata": {},
   "outputs": [
    {
     "name": "stdout",
     "output_type": "stream",
     "text": [
      "1/1 [==============================] - 2s 2s/step\n",
      "Teks: Pelayanan yang sangat baik! -> Sentimen: Positif\n",
      "Teks: jelek banget aplikasinya! -> Sentimen: Negatif\n"
     ]
    }
   ],
   "source": [
    "# Fungsi rata-rata vektor kata (pastikan sama dengan saat training)\n",
    "def get_sentence_vector(sentence, model):\n",
    "    words = sentence.split()\n",
    "    word_vectors = [model.wv[word] for word in words if word in model.wv]\n",
    "    return np.mean(word_vectors, axis=0) if word_vectors else np.zeros(model.vector_size)\n",
    "\n",
    "# Muat kembali model Word2Vec\n",
    "from gensim.models import Word2Vec\n",
    "model_w2v = Word2Vec.load(\"models/model_w2v.model\")\n",
    "\n",
    "# Muat model CNN-LSTM\n",
    "model = load_model('models/cnn_lstm_model.h5')\n",
    "\n",
    "# Kalimat baru untuk prediksi\n",
    "new_texts = [\"Pelayanan yang sangat baik!\", \"jelek banget aplikasinya!\"]\n",
    "\n",
    "# Transformasi ke Word2Vec\n",
    "X_new_w2v = np.array([get_sentence_vector(text, model_w2v) for text in new_texts])\n",
    "\n",
    "# Tambahkan dimensi channel terakhir agar sesuai input CNN\n",
    "X_new_w2v = X_new_w2v.reshape((X_new_w2v.shape[0], X_new_w2v.shape[1], 1))\n",
    "\n",
    "# Prediksi\n",
    "predictions = model.predict(X_new_w2v)\n",
    "predicted_labels = (predictions > 0.5).astype(int)\n",
    "\n",
    "# Tampilkan hasil\n",
    "for text, label in zip(new_texts, predicted_labels):\n",
    "    sentiment = \"Positif\" if label == 1 else \"Negatif\"\n",
    "    print(f\"Teks: {text} -> Sentimen: {sentiment}\")\n"
   ]
  },
  {
   "cell_type": "code",
   "execution_count": 5,
   "metadata": {},
   "outputs": [
    {
     "name": "stdout",
     "output_type": "stream",
     "text": [
      "1/1 [==============================] - 1s 958ms/step\n",
      "Teks: Aplikasinya buat nyaman, buat mudah kita tf! -> Sentimen: Positif\n",
      "Teks: csnya susah dihubungi! -> Sentimen: Negatif\n"
     ]
    }
   ],
   "source": [
    "# Fungsi rata-rata vektor kata (pastikan sama dengan saat training)\n",
    "def get_sentence_vector(sentence, model):\n",
    "    words = sentence.split()\n",
    "    word_vectors = [model.wv[word] for word in words if word in model.wv]\n",
    "    return np.mean(word_vectors, axis=0) if word_vectors else np.zeros(model.vector_size)\n",
    "\n",
    "# Muat kembali model Word2Vec\n",
    "from gensim.models import Word2Vec\n",
    "model_w2v = Word2Vec.load(\"models/model_w2v.model\")\n",
    "\n",
    "# Muat model CNN-LSTM\n",
    "model = load_model('models/best_cnn_lstm_model.h5')\n",
    "\n",
    "# Kalimat baru untuk prediksi\n",
    "new_texts = [\"Aplikasinya buat nyaman, buat mudah kita tf!\", \"csnya susah dihubungi!\"]\n",
    "\n",
    "# Transformasi ke Word2Vec\n",
    "X_new_w2v = np.array([get_sentence_vector(text, model_w2v) for text in new_texts])\n",
    "\n",
    "# Tambahkan dimensi channel terakhir agar sesuai input CNN\n",
    "X_new_w2v = X_new_w2v.reshape((X_new_w2v.shape[0], X_new_w2v.shape[1], 1))\n",
    "\n",
    "# Prediksi\n",
    "predictions = model.predict(X_new_w2v)\n",
    "predicted_labels = (predictions > 0.5).astype(int)\n",
    "\n",
    "# Tampilkan hasil\n",
    "for text, label in zip(new_texts, predicted_labels):\n",
    "    sentiment = \"Positif\" if label == 1 else \"Negatif\"\n",
    "    print(f\"Teks: {text} -> Sentimen: {sentiment}\")\n"
   ]
  },
  {
   "cell_type": "code",
   "execution_count": null,
   "metadata": {},
   "outputs": [],
   "source": []
  }
 ],
 "metadata": {
  "kernelspec": {
   "display_name": "tensorflow",
   "language": "python",
   "name": "python3"
  },
  "language_info": {
   "codemirror_mode": {
    "name": "ipython",
    "version": 3
   },
   "file_extension": ".py",
   "mimetype": "text/x-python",
   "name": "python",
   "nbconvert_exporter": "python",
   "pygments_lexer": "ipython3",
   "version": "3.9.19"
  }
 },
 "nbformat": 4,
 "nbformat_minor": 2
}
