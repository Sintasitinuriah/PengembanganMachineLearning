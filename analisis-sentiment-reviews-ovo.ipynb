{
 "cells": [
  {
   "cell_type": "code",
   "execution_count": null,
   "metadata": {
    "execution": {
     "iopub.execute_input": "2025-04-04T21:15:20.230523Z",
     "iopub.status.busy": "2025-04-04T21:15:20.230090Z",
     "iopub.status.idle": "2025-04-04T21:15:48.381952Z",
     "shell.execute_reply": "2025-04-04T21:15:48.380441Z",
     "shell.execute_reply.started": "2025-04-04T21:15:20.230488Z"
    },
    "trusted": true
   },
   "outputs": [
    {
     "name": "stderr",
     "output_type": "stream",
     "text": [
      "c:\\Users\\Sinta\\anaconda3\\envs\\tensorflow\\lib\\site-packages\\torch\\utils\\_pytree.py:185: FutureWarning: optree is installed but the version is too old to support PyTorch Dynamo in C++ pytree. C++ pytree support is disabled. Please consider upgrading optree using `python3 -m pip install --upgrade 'optree>=0.13.0'`.\n",
      "  warnings.warn(\n"
     ]
    }
   ],
   "source": [
    "# Untuk Pengolahan Kata\n",
    "from transformers import pipeline\n",
    "import emoji\n",
    "import re\n",
    "import nltk\n",
    "from nltk.corpus import stopwords, words\n",
    "from collections import Counter\n",
    "from nltk.tokenize import word_tokenize\n",
    "from nltk.stem import WordNetLemmatizer\n",
    "\n",
    "# Untuk pre processing data\n",
    "from sklearn.model_selection import train_test_split\n",
    "\n",
    "# Untuk Pemodelan\n",
    "from sklearn.metrics import accuracy_score,confusion_matrix,classification_report\n",
    "\n",
    "# Untuk Visualisasi\n",
    "import matplotlib.pyplot as plt\n",
    "import seaborn as sns\n",
    "from wordcloud import WordCloud\n",
    "\n",
    "import numpy as np\n",
    "import pandas as pd\n",
    "\n",
    "import os\n",
    "for dirname, _, filenames in os.walk('/kaggle/input'):\n",
    "    for filename in filenames:\n",
    "        print(os.path.join(dirname, filename))"
   ]
  },
  {
   "cell_type": "code",
   "execution_count": 2,
   "metadata": {
    "execution": {
     "iopub.execute_input": "2025-04-04T21:16:13.306217Z",
     "iopub.status.busy": "2025-04-04T21:16:13.305455Z",
     "iopub.status.idle": "2025-04-04T21:16:14.568819Z",
     "shell.execute_reply": "2025-04-04T21:16:14.567439Z",
     "shell.execute_reply.started": "2025-04-04T21:16:13.306182Z"
    },
    "trusted": true
   },
   "outputs": [],
   "source": [
    "df = pd.read_csv(\"./reviews_ovo.csv\")"
   ]
  },
  {
   "cell_type": "code",
   "execution_count": 3,
   "metadata": {
    "execution": {
     "iopub.execute_input": "2025-04-04T21:16:14.570995Z",
     "iopub.status.busy": "2025-04-04T21:16:14.570570Z",
     "iopub.status.idle": "2025-04-04T21:16:14.605373Z",
     "shell.execute_reply": "2025-04-04T21:16:14.604288Z",
     "shell.execute_reply.started": "2025-04-04T21:16:14.570954Z"
    },
    "trusted": true
   },
   "outputs": [
    {
     "data": {
      "text/html": [
       "<div>\n",
       "<style scoped>\n",
       "    .dataframe tbody tr th:only-of-type {\n",
       "        vertical-align: middle;\n",
       "    }\n",
       "\n",
       "    .dataframe tbody tr th {\n",
       "        vertical-align: top;\n",
       "    }\n",
       "\n",
       "    .dataframe thead th {\n",
       "        text-align: right;\n",
       "    }\n",
       "</style>\n",
       "<table border=\"1\" class=\"dataframe\">\n",
       "  <thead>\n",
       "    <tr style=\"text-align: right;\">\n",
       "      <th></th>\n",
       "      <th>Nama</th>\n",
       "      <th>Rating</th>\n",
       "      <th>Komentar</th>\n",
       "      <th>Tanggal</th>\n",
       "    </tr>\n",
       "  </thead>\n",
       "  <tbody>\n",
       "    <tr>\n",
       "      <th>0</th>\n",
       "      <td>Pengguna Google</td>\n",
       "      <td>1</td>\n",
       "      <td>Adminya edan</td>\n",
       "      <td>2025-03-27 16:10:41</td>\n",
       "    </tr>\n",
       "    <tr>\n",
       "      <th>1</th>\n",
       "      <td>Pengguna Google</td>\n",
       "      <td>1</td>\n",
       "      <td>aplikasi keuangan terburuk. sering eror dan ga...</td>\n",
       "      <td>2025-03-27 15:53:31</td>\n",
       "    </tr>\n",
       "    <tr>\n",
       "      <th>2</th>\n",
       "      <td>Pengguna Google</td>\n",
       "      <td>2</td>\n",
       "      <td>pusat bantuan gak jelas</td>\n",
       "      <td>2025-03-27 15:52:27</td>\n",
       "    </tr>\n",
       "    <tr>\n",
       "      <th>3</th>\n",
       "      <td>Pengguna Google</td>\n",
       "      <td>1</td>\n",
       "      <td>gak bisa Upgrade ke akun premier</td>\n",
       "      <td>2025-03-27 15:41:02</td>\n",
       "    </tr>\n",
       "    <tr>\n",
       "      <th>4</th>\n",
       "      <td>Pengguna Google</td>\n",
       "      <td>1</td>\n",
       "      <td>aplikasi sangat sulit dibuka, loading mulu</td>\n",
       "      <td>2025-03-27 15:32:36</td>\n",
       "    </tr>\n",
       "    <tr>\n",
       "      <th>...</th>\n",
       "      <td>...</td>\n",
       "      <td>...</td>\n",
       "      <td>...</td>\n",
       "      <td>...</td>\n",
       "    </tr>\n",
       "    <tr>\n",
       "      <th>274495</th>\n",
       "      <td>Pengguna Google</td>\n",
       "      <td>5</td>\n",
       "      <td>Bagus bgtt</td>\n",
       "      <td>2021-01-06 20:21:07</td>\n",
       "    </tr>\n",
       "    <tr>\n",
       "      <th>274496</th>\n",
       "      <td>Pengguna Google</td>\n",
       "      <td>5</td>\n",
       "      <td>Sangat membantu..</td>\n",
       "      <td>2021-01-06 20:16:49</td>\n",
       "    </tr>\n",
       "    <tr>\n",
       "      <th>274497</th>\n",
       "      <td>Pengguna Google</td>\n",
       "      <td>1</td>\n",
       "      <td>Apa apaan ini ko gak bisa masuk akun gagal terus</td>\n",
       "      <td>2021-01-06 20:06:11</td>\n",
       "    </tr>\n",
       "    <tr>\n",
       "      <th>274498</th>\n",
       "      <td>Pengguna Google</td>\n",
       "      <td>2</td>\n",
       "      <td>Awal nya aplikasi ini bagus tapi waktu update ...</td>\n",
       "      <td>2021-01-06 20:05:32</td>\n",
       "    </tr>\n",
       "    <tr>\n",
       "      <th>274499</th>\n",
       "      <td>Pengguna Google</td>\n",
       "      <td>5</td>\n",
       "      <td>good</td>\n",
       "      <td>2021-01-06 20:04:40</td>\n",
       "    </tr>\n",
       "  </tbody>\n",
       "</table>\n",
       "<p>274500 rows × 4 columns</p>\n",
       "</div>"
      ],
      "text/plain": [
       "                   Nama  Rating  \\\n",
       "0       Pengguna Google       1   \n",
       "1       Pengguna Google       1   \n",
       "2       Pengguna Google       2   \n",
       "3       Pengguna Google       1   \n",
       "4       Pengguna Google       1   \n",
       "...                 ...     ...   \n",
       "274495  Pengguna Google       5   \n",
       "274496  Pengguna Google       5   \n",
       "274497  Pengguna Google       1   \n",
       "274498  Pengguna Google       2   \n",
       "274499  Pengguna Google       5   \n",
       "\n",
       "                                                 Komentar              Tanggal  \n",
       "0                                            Adminya edan  2025-03-27 16:10:41  \n",
       "1       aplikasi keuangan terburuk. sering eror dan ga...  2025-03-27 15:53:31  \n",
       "2                                 pusat bantuan gak jelas  2025-03-27 15:52:27  \n",
       "3                        gak bisa Upgrade ke akun premier  2025-03-27 15:41:02  \n",
       "4              aplikasi sangat sulit dibuka, loading mulu  2025-03-27 15:32:36  \n",
       "...                                                   ...                  ...  \n",
       "274495                                         Bagus bgtt  2021-01-06 20:21:07  \n",
       "274496                                  Sangat membantu..  2021-01-06 20:16:49  \n",
       "274497   Apa apaan ini ko gak bisa masuk akun gagal terus  2021-01-06 20:06:11  \n",
       "274498  Awal nya aplikasi ini bagus tapi waktu update ...  2021-01-06 20:05:32  \n",
       "274499                                               good  2021-01-06 20:04:40  \n",
       "\n",
       "[274500 rows x 4 columns]"
      ]
     },
     "execution_count": 3,
     "metadata": {},
     "output_type": "execute_result"
    }
   ],
   "source": [
    "df"
   ]
  },
  {
   "cell_type": "code",
   "execution_count": 4,
   "metadata": {
    "execution": {
     "iopub.execute_input": "2025-04-04T21:16:14.607040Z",
     "iopub.status.busy": "2025-04-04T21:16:14.606733Z",
     "iopub.status.idle": "2025-04-04T21:16:14.611487Z",
     "shell.execute_reply": "2025-04-04T21:16:14.610125Z",
     "shell.execute_reply.started": "2025-04-04T21:16:14.607015Z"
    },
    "trusted": true
   },
   "outputs": [],
   "source": [
    "### Proses EDA"
   ]
  },
  {
   "cell_type": "code",
   "execution_count": 5,
   "metadata": {
    "execution": {
     "iopub.execute_input": "2025-04-04T21:16:14.832290Z",
     "iopub.status.busy": "2025-04-04T21:16:14.831898Z",
     "iopub.status.idle": "2025-04-04T21:16:15.109233Z",
     "shell.execute_reply": "2025-04-04T21:16:15.108121Z",
     "shell.execute_reply.started": "2025-04-04T21:16:14.832261Z"
    },
    "trusted": true
   },
   "outputs": [
    {
     "name": "stdout",
     "output_type": "stream",
     "text": [
      "Nama        0\n",
      "Rating      0\n",
      "Komentar    3\n",
      "Tanggal     0\n",
      "dtype: int64\n",
      "Nama        0\n",
      "Rating      0\n",
      "Komentar    3\n",
      "Tanggal     0\n",
      "dtype: int64\n",
      "3\n"
     ]
    }
   ],
   "source": [
    "print(df.isna().sum())\n",
    "print(df.isnull().sum())\n",
    "print(df.duplicated().sum())"
   ]
  },
  {
   "cell_type": "code",
   "execution_count": 6,
   "metadata": {
    "execution": {
     "iopub.execute_input": "2025-04-04T21:16:15.561684Z",
     "iopub.status.busy": "2025-04-04T21:16:15.561300Z",
     "iopub.status.idle": "2025-04-04T21:16:16.474780Z",
     "shell.execute_reply": "2025-04-04T21:16:16.473576Z",
     "shell.execute_reply.started": "2025-04-04T21:16:15.561655Z"
    },
    "trusted": true
   },
   "outputs": [
    {
     "data": {
      "text/html": [
       "<div>\n",
       "<style scoped>\n",
       "    .dataframe tbody tr th:only-of-type {\n",
       "        vertical-align: middle;\n",
       "    }\n",
       "\n",
       "    .dataframe tbody tr th {\n",
       "        vertical-align: top;\n",
       "    }\n",
       "\n",
       "    .dataframe thead th {\n",
       "        text-align: right;\n",
       "    }\n",
       "</style>\n",
       "<table border=\"1\" class=\"dataframe\">\n",
       "  <thead>\n",
       "    <tr style=\"text-align: right;\">\n",
       "      <th></th>\n",
       "      <th>Nama</th>\n",
       "      <th>Rating</th>\n",
       "      <th>Komentar</th>\n",
       "      <th>Tanggal</th>\n",
       "    </tr>\n",
       "  </thead>\n",
       "  <tbody>\n",
       "    <tr>\n",
       "      <th>0</th>\n",
       "      <td>Pengguna Google</td>\n",
       "      <td>1</td>\n",
       "      <td>Adminya edan</td>\n",
       "      <td>2025-03-27 16:10:41</td>\n",
       "    </tr>\n",
       "    <tr>\n",
       "      <th>1</th>\n",
       "      <td>Pengguna Google</td>\n",
       "      <td>1</td>\n",
       "      <td>aplikasi keuangan terburuk. sering eror dan ga...</td>\n",
       "      <td>2025-03-27 15:53:31</td>\n",
       "    </tr>\n",
       "    <tr>\n",
       "      <th>2</th>\n",
       "      <td>Pengguna Google</td>\n",
       "      <td>2</td>\n",
       "      <td>pusat bantuan gak jelas</td>\n",
       "      <td>2025-03-27 15:52:27</td>\n",
       "    </tr>\n",
       "    <tr>\n",
       "      <th>3</th>\n",
       "      <td>Pengguna Google</td>\n",
       "      <td>1</td>\n",
       "      <td>gak bisa Upgrade ke akun premier</td>\n",
       "      <td>2025-03-27 15:41:02</td>\n",
       "    </tr>\n",
       "    <tr>\n",
       "      <th>4</th>\n",
       "      <td>Pengguna Google</td>\n",
       "      <td>1</td>\n",
       "      <td>aplikasi sangat sulit dibuka, loading mulu</td>\n",
       "      <td>2025-03-27 15:32:36</td>\n",
       "    </tr>\n",
       "    <tr>\n",
       "      <th>...</th>\n",
       "      <td>...</td>\n",
       "      <td>...</td>\n",
       "      <td>...</td>\n",
       "      <td>...</td>\n",
       "    </tr>\n",
       "    <tr>\n",
       "      <th>274495</th>\n",
       "      <td>Pengguna Google</td>\n",
       "      <td>5</td>\n",
       "      <td>Bagus bgtt</td>\n",
       "      <td>2021-01-06 20:21:07</td>\n",
       "    </tr>\n",
       "    <tr>\n",
       "      <th>274496</th>\n",
       "      <td>Pengguna Google</td>\n",
       "      <td>5</td>\n",
       "      <td>Sangat membantu..</td>\n",
       "      <td>2021-01-06 20:16:49</td>\n",
       "    </tr>\n",
       "    <tr>\n",
       "      <th>274497</th>\n",
       "      <td>Pengguna Google</td>\n",
       "      <td>1</td>\n",
       "      <td>Apa apaan ini ko gak bisa masuk akun gagal terus</td>\n",
       "      <td>2021-01-06 20:06:11</td>\n",
       "    </tr>\n",
       "    <tr>\n",
       "      <th>274498</th>\n",
       "      <td>Pengguna Google</td>\n",
       "      <td>2</td>\n",
       "      <td>Awal nya aplikasi ini bagus tapi waktu update ...</td>\n",
       "      <td>2021-01-06 20:05:32</td>\n",
       "    </tr>\n",
       "    <tr>\n",
       "      <th>274499</th>\n",
       "      <td>Pengguna Google</td>\n",
       "      <td>5</td>\n",
       "      <td>good</td>\n",
       "      <td>2021-01-06 20:04:40</td>\n",
       "    </tr>\n",
       "  </tbody>\n",
       "</table>\n",
       "<p>274497 rows × 4 columns</p>\n",
       "</div>"
      ],
      "text/plain": [
       "                   Nama  Rating  \\\n",
       "0       Pengguna Google       1   \n",
       "1       Pengguna Google       1   \n",
       "2       Pengguna Google       2   \n",
       "3       Pengguna Google       1   \n",
       "4       Pengguna Google       1   \n",
       "...                 ...     ...   \n",
       "274495  Pengguna Google       5   \n",
       "274496  Pengguna Google       5   \n",
       "274497  Pengguna Google       1   \n",
       "274498  Pengguna Google       2   \n",
       "274499  Pengguna Google       5   \n",
       "\n",
       "                                                 Komentar              Tanggal  \n",
       "0                                            Adminya edan  2025-03-27 16:10:41  \n",
       "1       aplikasi keuangan terburuk. sering eror dan ga...  2025-03-27 15:53:31  \n",
       "2                                 pusat bantuan gak jelas  2025-03-27 15:52:27  \n",
       "3                        gak bisa Upgrade ke akun premier  2025-03-27 15:41:02  \n",
       "4              aplikasi sangat sulit dibuka, loading mulu  2025-03-27 15:32:36  \n",
       "...                                                   ...                  ...  \n",
       "274495                                         Bagus bgtt  2021-01-06 20:21:07  \n",
       "274496                                  Sangat membantu..  2021-01-06 20:16:49  \n",
       "274497   Apa apaan ini ko gak bisa masuk akun gagal terus  2021-01-06 20:06:11  \n",
       "274498  Awal nya aplikasi ini bagus tapi waktu update ...  2021-01-06 20:05:32  \n",
       "274499                                               good  2021-01-06 20:04:40  \n",
       "\n",
       "[274497 rows x 4 columns]"
      ]
     },
     "execution_count": 6,
     "metadata": {},
     "output_type": "execute_result"
    }
   ],
   "source": [
    "df.drop_duplicates(inplace=True)\n",
    "df = df.replace(r'^\\s*$', np.nan, regex=True)  # Hapus kolom yang semua nilainya NaN\n",
    "df"
   ]
  },
  {
   "cell_type": "code",
   "execution_count": 7,
   "metadata": {
    "execution": {
     "iopub.execute_input": "2025-04-04T21:16:16.476505Z",
     "iopub.status.busy": "2025-04-04T21:16:16.476157Z",
     "iopub.status.idle": "2025-04-04T21:16:16.552172Z",
     "shell.execute_reply": "2025-04-04T21:16:16.550971Z",
     "shell.execute_reply.started": "2025-04-04T21:16:16.476477Z"
    },
    "trusted": true
   },
   "outputs": [
    {
     "data": {
      "text/html": [
       "<div>\n",
       "<style scoped>\n",
       "    .dataframe tbody tr th:only-of-type {\n",
       "        vertical-align: middle;\n",
       "    }\n",
       "\n",
       "    .dataframe tbody tr th {\n",
       "        vertical-align: top;\n",
       "    }\n",
       "\n",
       "    .dataframe thead th {\n",
       "        text-align: right;\n",
       "    }\n",
       "</style>\n",
       "<table border=\"1\" class=\"dataframe\">\n",
       "  <thead>\n",
       "    <tr style=\"text-align: right;\">\n",
       "      <th></th>\n",
       "      <th>Nama</th>\n",
       "      <th>Rating</th>\n",
       "      <th>Komentar</th>\n",
       "      <th>Tanggal</th>\n",
       "    </tr>\n",
       "  </thead>\n",
       "  <tbody>\n",
       "    <tr>\n",
       "      <th>0</th>\n",
       "      <td>Pengguna Google</td>\n",
       "      <td>1</td>\n",
       "      <td>Adminya edan</td>\n",
       "      <td>2025-03-27 16:10:41</td>\n",
       "    </tr>\n",
       "    <tr>\n",
       "      <th>1</th>\n",
       "      <td>Pengguna Google</td>\n",
       "      <td>1</td>\n",
       "      <td>aplikasi keuangan terburuk. sering eror dan ga...</td>\n",
       "      <td>2025-03-27 15:53:31</td>\n",
       "    </tr>\n",
       "    <tr>\n",
       "      <th>2</th>\n",
       "      <td>Pengguna Google</td>\n",
       "      <td>2</td>\n",
       "      <td>pusat bantuan gak jelas</td>\n",
       "      <td>2025-03-27 15:52:27</td>\n",
       "    </tr>\n",
       "    <tr>\n",
       "      <th>3</th>\n",
       "      <td>Pengguna Google</td>\n",
       "      <td>1</td>\n",
       "      <td>gak bisa Upgrade ke akun premier</td>\n",
       "      <td>2025-03-27 15:41:02</td>\n",
       "    </tr>\n",
       "    <tr>\n",
       "      <th>4</th>\n",
       "      <td>Pengguna Google</td>\n",
       "      <td>1</td>\n",
       "      <td>aplikasi sangat sulit dibuka, loading mulu</td>\n",
       "      <td>2025-03-27 15:32:36</td>\n",
       "    </tr>\n",
       "    <tr>\n",
       "      <th>...</th>\n",
       "      <td>...</td>\n",
       "      <td>...</td>\n",
       "      <td>...</td>\n",
       "      <td>...</td>\n",
       "    </tr>\n",
       "    <tr>\n",
       "      <th>274495</th>\n",
       "      <td>Pengguna Google</td>\n",
       "      <td>5</td>\n",
       "      <td>Bagus bgtt</td>\n",
       "      <td>2021-01-06 20:21:07</td>\n",
       "    </tr>\n",
       "    <tr>\n",
       "      <th>274496</th>\n",
       "      <td>Pengguna Google</td>\n",
       "      <td>5</td>\n",
       "      <td>Sangat membantu..</td>\n",
       "      <td>2021-01-06 20:16:49</td>\n",
       "    </tr>\n",
       "    <tr>\n",
       "      <th>274497</th>\n",
       "      <td>Pengguna Google</td>\n",
       "      <td>1</td>\n",
       "      <td>Apa apaan ini ko gak bisa masuk akun gagal terus</td>\n",
       "      <td>2021-01-06 20:06:11</td>\n",
       "    </tr>\n",
       "    <tr>\n",
       "      <th>274498</th>\n",
       "      <td>Pengguna Google</td>\n",
       "      <td>2</td>\n",
       "      <td>Awal nya aplikasi ini bagus tapi waktu update ...</td>\n",
       "      <td>2021-01-06 20:05:32</td>\n",
       "    </tr>\n",
       "    <tr>\n",
       "      <th>274499</th>\n",
       "      <td>Pengguna Google</td>\n",
       "      <td>5</td>\n",
       "      <td>good</td>\n",
       "      <td>2021-01-06 20:04:40</td>\n",
       "    </tr>\n",
       "  </tbody>\n",
       "</table>\n",
       "<p>274494 rows × 4 columns</p>\n",
       "</div>"
      ],
      "text/plain": [
       "                   Nama  Rating  \\\n",
       "0       Pengguna Google       1   \n",
       "1       Pengguna Google       1   \n",
       "2       Pengguna Google       2   \n",
       "3       Pengguna Google       1   \n",
       "4       Pengguna Google       1   \n",
       "...                 ...     ...   \n",
       "274495  Pengguna Google       5   \n",
       "274496  Pengguna Google       5   \n",
       "274497  Pengguna Google       1   \n",
       "274498  Pengguna Google       2   \n",
       "274499  Pengguna Google       5   \n",
       "\n",
       "                                                 Komentar              Tanggal  \n",
       "0                                            Adminya edan  2025-03-27 16:10:41  \n",
       "1       aplikasi keuangan terburuk. sering eror dan ga...  2025-03-27 15:53:31  \n",
       "2                                 pusat bantuan gak jelas  2025-03-27 15:52:27  \n",
       "3                        gak bisa Upgrade ke akun premier  2025-03-27 15:41:02  \n",
       "4              aplikasi sangat sulit dibuka, loading mulu  2025-03-27 15:32:36  \n",
       "...                                                   ...                  ...  \n",
       "274495                                         Bagus bgtt  2021-01-06 20:21:07  \n",
       "274496                                  Sangat membantu..  2021-01-06 20:16:49  \n",
       "274497   Apa apaan ini ko gak bisa masuk akun gagal terus  2021-01-06 20:06:11  \n",
       "274498  Awal nya aplikasi ini bagus tapi waktu update ...  2021-01-06 20:05:32  \n",
       "274499                                               good  2021-01-06 20:04:40  \n",
       "\n",
       "[274494 rows x 4 columns]"
      ]
     },
     "execution_count": 7,
     "metadata": {},
     "output_type": "execute_result"
    }
   ],
   "source": [
    "df.dropna(subset=['Komentar'], inplace=True)\n",
    "df"
   ]
  },
  {
   "cell_type": "code",
   "execution_count": 8,
   "metadata": {
    "execution": {
     "iopub.execute_input": "2025-04-04T21:16:17.570889Z",
     "iopub.status.busy": "2025-04-04T21:16:17.570424Z",
     "iopub.status.idle": "2025-04-04T21:16:17.928177Z",
     "shell.execute_reply": "2025-04-04T21:16:17.927028Z",
     "shell.execute_reply.started": "2025-04-04T21:16:17.570827Z"
    },
    "trusted": true
   },
   "outputs": [
    {
     "name": "stdout",
     "output_type": "stream",
     "text": [
      "Nama        0\n",
      "Rating      0\n",
      "Komentar    0\n",
      "Tanggal     0\n",
      "dtype: int64\n",
      "Nama        0\n",
      "Rating      0\n",
      "Komentar    0\n",
      "Tanggal     0\n",
      "dtype: int64\n",
      "0\n"
     ]
    }
   ],
   "source": [
    "print(df.isna().sum())\n",
    "print(df.isnull().sum())\n",
    "print(df.duplicated().sum())"
   ]
  },
  {
   "cell_type": "code",
   "execution_count": 10,
   "metadata": {
    "execution": {
     "iopub.execute_input": "2025-04-04T21:16:22.665722Z",
     "iopub.status.busy": "2025-04-04T21:16:22.665340Z",
     "iopub.status.idle": "2025-04-04T21:16:22.734429Z",
     "shell.execute_reply": "2025-04-04T21:16:22.733191Z",
     "shell.execute_reply.started": "2025-04-04T21:16:22.665694Z"
    },
    "trusted": true
   },
   "outputs": [
    {
     "name": "stdout",
     "output_type": "stream",
     "text": [
      "                   Nama  Rating  \\\n",
      "0       Pengguna Google       1   \n",
      "1       Pengguna Google       1   \n",
      "2       Pengguna Google       2   \n",
      "3       Pengguna Google       1   \n",
      "4       Pengguna Google       1   \n",
      "...                 ...     ...   \n",
      "274495  Pengguna Google       5   \n",
      "274496  Pengguna Google       5   \n",
      "274497  Pengguna Google       1   \n",
      "274498  Pengguna Google       2   \n",
      "274499  Pengguna Google       5   \n",
      "\n",
      "                                                 Komentar  \\\n",
      "0                                            Adminya edan   \n",
      "1       aplikasi keuangan terburuk. sering eror dan ga...   \n",
      "2                                 pusat bantuan gak jelas   \n",
      "3                        gak bisa Upgrade ke akun premier   \n",
      "4              aplikasi sangat sulit dibuka, loading mulu   \n",
      "...                                                   ...   \n",
      "274495                                         Bagus bgtt   \n",
      "274496                                  Sangat membantu..   \n",
      "274497   Apa apaan ini ko gak bisa masuk akun gagal terus   \n",
      "274498  Awal nya aplikasi ini bagus tapi waktu update ...   \n",
      "274499                                               good   \n",
      "\n",
      "                    Tanggal Sentiment  \n",
      "0       2025-03-27 16:10:41  negative  \n",
      "1       2025-03-27 15:53:31  negative  \n",
      "2       2025-03-27 15:52:27  negative  \n",
      "3       2025-03-27 15:41:02  negative  \n",
      "4       2025-03-27 15:32:36  negative  \n",
      "...                     ...       ...  \n",
      "274495  2021-01-06 20:21:07  positive  \n",
      "274496  2021-01-06 20:16:49  positive  \n",
      "274497  2021-01-06 20:06:11  negative  \n",
      "274498  2021-01-06 20:05:32  negative  \n",
      "274499  2021-01-06 20:04:40  positive  \n",
      "\n",
      "[274494 rows x 5 columns]\n"
     ]
    }
   ],
   "source": [
    "def map_rating_to_sentiment(rating):\n",
    "  \"\"\"Memetakan rating numerik ke label sentimen.\n",
    "\n",
    "  Args:\n",
    "    rating: Nilai rating (misalnya, 1-5).\n",
    "\n",
    "  Returns:\n",
    "    Label sentimen (\"positive\", \"negative\", atau \"neutral\").\n",
    "  \"\"\"\n",
    "  if rating < 3:\n",
    "    return \"negative\"\n",
    "  elif rating == 3:\n",
    "    return \"neutral\"\n",
    "  else:\n",
    "    return \"positive\"\n",
    "\n",
    "# Terapkan fungsi pada kolom 'Rating' dan simpan hasilnya di kolom baru 'Sentiment'\n",
    "df['Sentiment'] = df['Rating'].apply(map_rating_to_sentiment)\n",
    "\n",
    "print(df)"
   ]
  },
  {
   "cell_type": "code",
   "execution_count": 11,
   "metadata": {
    "execution": {
     "iopub.execute_input": "2025-04-04T21:16:26.897798Z",
     "iopub.status.busy": "2025-04-04T21:16:26.897278Z",
     "iopub.status.idle": "2025-04-04T21:16:26.924251Z",
     "shell.execute_reply": "2025-04-04T21:16:26.922971Z",
     "shell.execute_reply.started": "2025-04-04T21:16:26.897764Z"
    },
    "trusted": true
   },
   "outputs": [
    {
     "name": "stdout",
     "output_type": "stream",
     "text": [
      "Sentiment\n",
      "positive    158286\n",
      "negative    103874\n",
      "neutral      12334\n",
      "Name: count, dtype: int64\n"
     ]
    }
   ],
   "source": [
    "sentiment_counts = df['Sentiment'].value_counts()\n",
    "print(sentiment_counts)"
   ]
  },
  {
   "cell_type": "code",
   "execution_count": 12,
   "metadata": {
    "execution": {
     "iopub.execute_input": "2025-04-04T21:16:27.914693Z",
     "iopub.status.busy": "2025-04-04T21:16:27.914263Z",
     "iopub.status.idle": "2025-04-04T21:16:28.270727Z",
     "shell.execute_reply": "2025-04-04T21:16:28.269441Z",
     "shell.execute_reply.started": "2025-04-04T21:16:27.914663Z"
    },
    "trusted": true
   },
   "outputs": [
    {
     "data": {
      "image/png": "[encoded data removed]",
      "text/plain": [
       "<Figure size 640x480 with 1 Axes>"
      ]
     },
     "metadata": {},
     "output_type": "display_data"
    }
   ],
   "source": [
    "# Plot jumlah sentimen\n",
    "sentiment_counts.plot(kind=\"bar\", color=[\"green\", \"red\"])\n",
    "plt.xlabel(\"Sentiment\")\n",
    "plt.ylabel(\"Count\")\n",
    "plt.title(\"Sentiment Analysis Result\")\n",
    "plt.xticks(rotation=0)\n",
    "plt.show()"
   ]
  },
  {
   "cell_type": "code",
   "execution_count": 13,
   "metadata": {
    "execution": {
     "iopub.execute_input": "2025-04-04T21:16:35.620651Z",
     "iopub.status.busy": "2025-04-04T21:16:35.620235Z",
     "iopub.status.idle": "2025-04-04T21:18:52.421813Z",
     "shell.execute_reply": "2025-04-04T21:18:52.420720Z",
     "shell.execute_reply.started": "2025-04-04T21:16:35.620622Z"
    },
    "trusted": true
   },
   "outputs": [],
   "source": [
    "stopwords_kustom = {\n",
    "    \"aja\", \"ga\", \"gk\", \"gak\", \"udah\", \"udh\", \"ok\", \"lah\", \"sih\", \"banget\", \"bgt\",\n",
    "    \"cuma\", \"lagi\", \"tp\", \"dr\", \"krn\", \"dgn\", \"yg\", \"tdk\", \"blm\", \"sm\", \"sdh\", \"mn\", \n",
    "    \"jg\", \"sy\", \"sya\", \"gw\", \"gue\", \"nya\", \"ya\"\n",
    "}\n",
    "\n",
    "def bersihkan_teks(teks):\n",
    "    if isinstance(teks, str):\n",
    "        teks = teks.lower() \n",
    "        teks = re.sub(r'[^\\w\\s]', '', teks) \n",
    "        kata_kata = word_tokenize(teks) \n",
    "        stop_words = set(stopwords.words('indonesian')) \n",
    "        stop_words.update(stopwords_kustom)\n",
    "        kata_kata = [kata for kata in kata_kata if kata not in stop_words]\n",
    "        return kata_kata\n",
    "    # If teks is not a string, return an empty list or handle it as needed\n",
    "    else:\n",
    "        return []\n",
    "\n",
    "df['Kata_Bersih'] = df['Komentar'].apply(bersihkan_teks)\n"
   ]
  },
  {
   "cell_type": "code",
   "execution_count": 14,
   "metadata": {
    "execution": {
     "iopub.execute_input": "2025-04-04T21:18:52.423756Z",
     "iopub.status.busy": "2025-04-04T21:18:52.423367Z",
     "iopub.status.idle": "2025-04-04T21:18:52.629740Z",
     "shell.execute_reply": "2025-04-04T21:18:52.628656Z",
     "shell.execute_reply.started": "2025-04-04T21:18:52.423717Z"
    },
    "trusted": true
   },
   "outputs": [
    {
     "name": "stdout",
     "output_type": "stream",
     "text": [
      "Nama           0\n",
      "Rating         0\n",
      "Komentar       0\n",
      "Tanggal        0\n",
      "Sentiment      0\n",
      "Kata_Bersih    0\n",
      "dtype: int64\n",
      "Nama           0\n",
      "Rating         0\n",
      "Komentar       0\n",
      "Tanggal        0\n",
      "Sentiment      0\n",
      "Kata_Bersih    0\n",
      "dtype: int64\n"
     ]
    }
   ],
   "source": [
    "print(df.isna().sum())\n",
    "print(df.isnull().sum())"
   ]
  },
  {
   "cell_type": "code",
   "execution_count": 15,
   "metadata": {
    "execution": {
     "iopub.execute_input": "2025-04-04T21:18:52.631682Z",
     "iopub.status.busy": "2025-04-04T21:18:52.631348Z",
     "iopub.status.idle": "2025-04-04T21:18:53.126997Z",
     "shell.execute_reply": "2025-04-04T21:18:53.125937Z",
     "shell.execute_reply.started": "2025-04-04T21:18:52.631656Z"
    },
    "trusted": true
   },
   "outputs": [
    {
     "name": "stdout",
     "output_type": "stream",
     "text": [
      "0\n"
     ]
    }
   ],
   "source": [
    "df[\"Kata_Bersih\"] = df[\"Kata_Bersih\"].apply(lambda x: \" \".join(x) if isinstance(x, list) else str(x))\n",
    "print(df.duplicated().sum())"
   ]
  },
  {
   "cell_type": "code",
   "execution_count": 16,
   "metadata": {
    "execution": {
     "iopub.execute_input": "2025-04-04T21:18:53.128912Z",
     "iopub.status.busy": "2025-04-04T21:18:53.128555Z",
     "iopub.status.idle": "2025-04-04T21:18:53.707780Z",
     "shell.execute_reply": "2025-04-04T21:18:53.706688Z",
     "shell.execute_reply.started": "2025-04-04T21:18:53.128872Z"
    },
    "trusted": true
   },
   "outputs": [],
   "source": [
    "# Hitung frekuensi kata untuk setiap sentimen dengan split()\n",
    "kata_positif = Counter([kata for daftar_kata in df[df['Sentiment'] == 'positive']['Kata_Bersih'] for kata in daftar_kata.split()])\n",
    "kata_negatif = Counter([kata for daftar_kata in df[df['Sentiment'] == 'negative']['Kata_Bersih'] for kata in daftar_kata.split()])"
   ]
  },
  {
   "cell_type": "markdown",
   "metadata": {},
   "source": [
    "Visualisasi Kata yang sering muncul"
   ]
  },
  {
   "cell_type": "code",
   "execution_count": 17,
   "metadata": {
    "execution": {
     "iopub.execute_input": "2025-04-04T21:18:53.709257Z",
     "iopub.status.busy": "2025-04-04T21:18:53.708933Z",
     "iopub.status.idle": "2025-04-04T21:18:53.733317Z",
     "shell.execute_reply": "2025-04-04T21:18:53.732137Z",
     "shell.execute_reply.started": "2025-04-04T21:18:53.709230Z"
    },
    "trusted": true
   },
   "outputs": [
    {
     "name": "stdout",
     "output_type": "stream",
     "text": [
      "\n",
      "Kata-kata umum dalam sentimen negatif:\n"
     ]
    },
    {
     "data": {
      "text/plain": [
       "[('ovo', 46646),\n",
       " ('aplikasi', 24248),\n",
       " ('masuk', 17609),\n",
       " ('saldo', 17364),\n",
       " ('transfer', 14232),\n",
       " ('gagal', 10645),\n",
       " ('apk', 9326),\n",
       " ('akun', 9121),\n",
       " ('transaksi', 9111),\n",
       " ('uang', 8473),\n",
       " ('susah', 8345),\n",
       " ('tolong', 8240),\n",
       " ('login', 7544),\n",
       " ('pake', 7251),\n",
       " ('up', 7186),\n",
       " ('upgrade', 7007),\n",
       " ('top', 6977),\n",
       " ('dana', 6395),\n",
       " ('bank', 6167),\n",
       " ('update', 5803),\n",
       " ('pulsa', 5468),\n",
       " ('tf', 5364),\n",
       " ('proses', 5197),\n",
       " ('kecewa', 4927),\n",
       " ('gimana', 4662),\n",
       " ('email', 4613),\n",
       " ('ribet', 4583),\n",
       " ('kali', 4507),\n",
       " ('cs', 4384),\n",
       " ('parah', 4153),\n",
       " ('pakai', 4130),\n",
       " ('pas', 3956),\n",
       " ('isi', 3720),\n",
       " ('2', 3625),\n",
       " ('buka', 3615),\n",
       " ('mulu', 3598),\n",
       " ('beli', 3578),\n",
       " ('kalo', 3533),\n",
       " ('berhasil', 3402),\n",
       " ('jam', 3360),\n",
       " ('nunggu', 3347),\n",
       " ('kode', 3341),\n",
       " ('perbaiki', 3328),\n",
       " ('1', 3300),\n",
       " ('verifikasi', 3295),\n",
       " ('admin', 3238),\n",
       " ('rekening', 3157),\n",
       " ('eror', 3121),\n",
       " ('kirim', 3085),\n",
       " ('bikin', 3032)]"
      ]
     },
     "execution_count": 17,
     "metadata": {},
     "output_type": "execute_result"
    }
   ],
   "source": [
    "print(\"\\nKata-kata umum dalam sentimen negatif:\")\n",
    "kata_negatif.most_common(50)"
   ]
  },
  {
   "cell_type": "code",
   "execution_count": 18,
   "metadata": {
    "execution": {
     "iopub.execute_input": "2025-04-04T21:18:53.735356Z",
     "iopub.status.busy": "2025-04-04T21:18:53.734871Z",
     "iopub.status.idle": "2025-04-04T21:18:53.766685Z",
     "shell.execute_reply": "2025-04-04T21:18:53.765444Z",
     "shell.execute_reply.started": "2025-04-04T21:18:53.735310Z"
    },
    "trusted": true
   },
   "outputs": [
    {
     "name": "stdout",
     "output_type": "stream",
     "text": [
      "\n",
      "Kata-kata umum dalam sentimen positif:\n"
     ]
    },
    {
     "data": {
      "text/plain": [
       "[('ovo', 22462),\n",
       " ('mantap', 19448),\n",
       " ('bagus', 18104),\n",
       " ('membantu', 11844),\n",
       " ('mudah', 11163),\n",
       " ('good', 9270),\n",
       " ('aplikasi', 8138),\n",
       " ('cepat', 6610),\n",
       " ('transaksi', 6450),\n",
       " ('oke', 3648),\n",
       " ('top', 3501),\n",
       " ('transfer', 3426),\n",
       " ('kasih', 3267),\n",
       " ('keren', 3046),\n",
       " ('gampang', 2463),\n",
       " ('semoga', 2417),\n",
       " ('pembayaran', 2396),\n",
       " ('tolong', 2258),\n",
       " ('terimakasih', 2256),\n",
       " ('apk', 2234),\n",
       " ('bermanfaat', 2178),\n",
       " ('suka', 2037),\n",
       " ('pake', 2023),\n",
       " ('terima', 1933),\n",
       " ('masuk', 1910),\n",
       " ('memudahkan', 1875),\n",
       " ('saldo', 1858),\n",
       " ('pakai', 1843),\n",
       " ('aman', 1708),\n",
       " ('uang', 1701),\n",
       " ('lancar', 1680),\n",
       " ('akun', 1654),\n",
       " ('puas', 1605),\n",
       " ('bintang', 1599),\n",
       " ('ribet', 1536),\n",
       " ('bertransaksi', 1522),\n",
       " ('aplikasinya', 1500),\n",
       " ('mantab', 1480),\n",
       " ('up', 1452),\n",
       " ('bank', 1436),\n",
       " ('praktis', 1425),\n",
       " ('nice', 1356),\n",
       " ('terbaik', 1276),\n",
       " ('memuaskan', 1249),\n",
       " ('best', 1235),\n",
       " ('mantul', 1217),\n",
       " ('proses', 1183),\n",
       " ('sukses', 1177),\n",
       " ('mohon', 1154),\n",
       " ('bayar', 1129)]"
      ]
     },
     "execution_count": 18,
     "metadata": {},
     "output_type": "execute_result"
    }
   ],
   "source": [
    "print(\"\\nKata-kata umum dalam sentimen positif:\")\n",
    "kata_positif.most_common(50)"
   ]
  },
  {
   "cell_type": "code",
   "execution_count": 19,
   "metadata": {
    "execution": {
     "iopub.execute_input": "2025-04-04T21:18:53.768700Z",
     "iopub.status.busy": "2025-04-04T21:18:53.768311Z",
     "iopub.status.idle": "2025-04-04T21:18:54.266412Z",
     "shell.execute_reply": "2025-04-04T21:18:54.265276Z",
     "shell.execute_reply.started": "2025-04-04T21:18:53.768669Z"
    },
    "trusted": true
   },
   "outputs": [
    {
     "name": "stderr",
     "output_type": "stream",
     "text": [
      "C:\\Users\\Sinta\\AppData\\Local\\Temp\\ipykernel_1944\\1882581297.py:9: FutureWarning: \n",
      "\n",
      "Passing `palette` without assigning `hue` is deprecated and will be removed in v0.14.0. Assign the `y` variable to `hue` and set `legend=False` for the same effect.\n",
      "\n",
      "  sns.barplot(x='Frekuensi', y='Kata', data=df_positif, palette='Blues_r')\n",
      "C:\\Users\\Sinta\\AppData\\Local\\Temp\\ipykernel_1944\\1882581297.py:16: FutureWarning: \n",
      "\n",
      "Passing `palette` without assigning `hue` is deprecated and will be removed in v0.14.0. Assign the `y` variable to `hue` and set `legend=False` for the same effect.\n",
      "\n",
      "  sns.barplot(x='Frekuensi', y='Kata', data=df_negatif, palette='Reds_r')\n"
     ]
    },
    {
     "data": {
      "image/png": "[encoded data removed]",
      "text/plain": [
       "<Figure size 1200x500 with 2 Axes>"
      ]
     },
     "metadata": {},
     "output_type": "display_data"
    }
   ],
   "source": [
    "# Konversi ke DataFrame untuk visualisasi\n",
    "df_positif = pd.DataFrame(kata_positif.most_common(10), columns=['Kata', 'Frekuensi'])\n",
    "df_negatif = pd.DataFrame(kata_negatif.most_common(10), columns=['Kata', 'Frekuensi'])\n",
    "\n",
    "# Plot bar chart untuk kata-kata dalam sentimen positif\n",
    "plt.figure(figsize=(12, 5))\n",
    "\n",
    "plt.subplot(1, 2, 1)\n",
    "sns.barplot(x='Frekuensi', y='Kata', data=df_positif, palette='Blues_r')\n",
    "plt.title('Kata yang Sering Muncul dalam Sentimen Positif')\n",
    "plt.xlabel('Frekuensi')\n",
    "plt.ylabel('Kata')\n",
    "\n",
    "# Plot bar chart untuk kata-kata dalam sentimen negatif\n",
    "plt.subplot(1, 2, 2)\n",
    "sns.barplot(x='Frekuensi', y='Kata', data=df_negatif, palette='Reds_r')\n",
    "plt.title('Kata yang Sering Muncul dalam Sentimen Negatif')\n",
    "plt.xlabel('Frekuensi')\n",
    "plt.ylabel('Kata')\n",
    "\n",
    "# Tampilkan plot\n",
    "plt.tight_layout()\n",
    "plt.show()"
   ]
  },
  {
   "cell_type": "code",
   "execution_count": 20,
   "metadata": {
    "execution": {
     "iopub.execute_input": "2025-04-04T21:18:54.269373Z",
     "iopub.status.busy": "2025-04-04T21:18:54.269067Z",
     "iopub.status.idle": "2025-04-04T21:18:54.455137Z",
     "shell.execute_reply": "2025-04-04T21:18:54.453764Z",
     "shell.execute_reply.started": "2025-04-04T21:18:54.269347Z"
    },
    "trusted": true
   },
   "outputs": [
    {
     "name": "stdout",
     "output_type": "stream",
     "text": [
      "         Tanggal  Jumlah Komentar\n",
      "0     2021-01-06               44\n",
      "1     2021-01-07              200\n",
      "2     2021-01-08              161\n",
      "3     2021-01-09              167\n",
      "4     2021-01-10              122\n",
      "...          ...              ...\n",
      "1515  2025-03-23              109\n",
      "1516  2025-03-24              108\n",
      "1517  2025-03-25              413\n",
      "1518  2025-03-26              171\n",
      "1519  2025-03-27               67\n",
      "\n",
      "[1520 rows x 2 columns]\n"
     ]
    }
   ],
   "source": [
    "# Ubah kolom Tanggal menjadi format datetime\n",
    "df[\"Tanggal\"] = pd.to_datetime(df[\"Tanggal\"])\n",
    "\n",
    "# Mengelompokkan jumlah komentar berdasarkan tanggal\n",
    "df_grouped = df.groupby(df[\"Tanggal\"].dt.date).size().reset_index(name=\"Jumlah Komentar\")\n",
    "\n",
    "# Menampilkan tabel hasil\n",
    "print(df_grouped)"
   ]
  },
  {
   "cell_type": "code",
   "execution_count": 21,
   "metadata": {
    "execution": {
     "iopub.execute_input": "2025-04-04T21:18:54.457224Z",
     "iopub.status.busy": "2025-04-04T21:18:54.456920Z",
     "iopub.status.idle": "2025-04-04T21:18:54.732605Z",
     "shell.execute_reply": "2025-04-04T21:18:54.731667Z",
     "shell.execute_reply.started": "2025-04-04T21:18:54.457199Z"
    },
    "trusted": true
   },
   "outputs": [
    {
     "data": {
      "text/plain": [
       "0"
      ]
     },
     "execution_count": 21,
     "metadata": {},
     "output_type": "execute_result"
    }
   ],
   "source": [
    "df['Kata_Bersih'] = df['Kata_Bersih'].astype(str)\n",
    "\n",
    "# Mengecek jumlah data yang duplikat\n",
    "df.duplicated().sum()"
   ]
  },
  {
   "cell_type": "markdown",
   "metadata": {},
   "source": [
    "### Ekstraksi Fitur (Feature Engineering)"
   ]
  },
  {
   "cell_type": "markdown",
   "metadata": {},
   "source": [
    "#### TF-IDF (Term Frequency - Inverse Documents Frequency)"
   ]
  },
  {
   "cell_type": "code",
   "execution_count": 22,
   "metadata": {
    "execution": {
     "iopub.execute_input": "2025-04-04T21:18:54.733599Z",
     "iopub.status.busy": "2025-04-04T21:18:54.733341Z",
     "iopub.status.idle": "2025-04-04T21:18:58.665999Z",
     "shell.execute_reply": "2025-04-04T21:18:58.664882Z",
     "shell.execute_reply.started": "2025-04-04T21:18:54.733577Z"
    },
    "trusted": true
   },
   "outputs": [
    {
     "name": "stdout",
     "output_type": "stream",
     "text": [
      "['10' '1000' '1500' '1x24' '24' '2500' '2x' 'abis' 'ad' 'admin' 'adminnya'\n",
      " 'aj' 'ajah' 'aktif' 'akun' 'alasan' 'alhamdulillah' 'aman' 'ambil'\n",
      " 'ampun']\n"
     ]
    }
   ],
   "source": [
    "from sklearn.feature_extraction.text import TfidfVectorizer\n",
    "\n",
    "# Target label (sentimen)\n",
    "y = df[\"Sentiment\"].map({\"positive\": 1, \"negative\": 0})\n",
    "y = y.dropna()\n",
    "df = df.loc[y.index] \n",
    "\n",
    "tfidf_vectorizer = TfidfVectorizer(max_features=500)\n",
    "X_tfidf = tfidf_vectorizer.fit_transform(df[\"Kata_Bersih\"]).toarray()\n",
    "\n",
    "\n",
    "# Lihat fitur TF-IDF\n",
    "print(tfidf_vectorizer.get_feature_names_out()[:20])\n"
   ]
  },
  {
   "cell_type": "markdown",
   "metadata": {},
   "source": [
    "### Word to Vectors (Word2vec)"
   ]
  },
  {
   "cell_type": "code",
   "execution_count": 46,
   "metadata": {
    "execution": {
     "iopub.execute_input": "2025-04-04T21:18:58.667383Z",
     "iopub.status.busy": "2025-04-04T21:18:58.667124Z",
     "iopub.status.idle": "2025-04-04T21:20:05.204157Z",
     "shell.execute_reply": "2025-04-04T21:20:05.202816Z",
     "shell.execute_reply.started": "2025-04-04T21:18:58.667361Z"
    },
    "trusted": true
   },
   "outputs": [],
   "source": [
    "import gensim\n",
    "from gensim.models import Word2Vec\n",
    "\n",
    "# Tokenisasi teks menjadi list kata\n",
    "df[\"Kata_Token\"] = df[\"Kata_Bersih\"].apply(lambda x: x.split())\n",
    "\n",
    "# Pelatihan model Word2Vec\n",
    "model_w2v = Word2Vec(sentences=df[\"Kata_Token\"], vector_size=500, window=5, min_count=1, workers=4)\n",
    "\n",
    "# Fungsi untuk mendapatkan vektor kalimat dengan merata-rata vektor kata\n",
    "def get_sentence_vector(sentence, model):\n",
    "    words = sentence.split()\n",
    "    word_vectors = [model.wv[word] for word in words if word in model.wv]\n",
    "    return np.mean(word_vectors, axis=0) if word_vectors else np.zeros(model.vector_size)\n",
    "\n",
    "# Transformasi teks menjadi vektor Word2Vec\n",
    "X_w2v = np.array([get_sentence_vector(text, model_w2v) for text in df[\"Kata_Bersih\"]])\n"
   ]
  },
  {
   "cell_type": "markdown",
   "metadata": {},
   "source": [
    "### Modelling Dengan Machine Learning atau Deep Learning"
   ]
  },
  {
   "cell_type": "markdown",
   "metadata": {},
   "source": [
    "#### Splitting data"
   ]
  },
  {
   "cell_type": "code",
   "execution_count": 24,
   "metadata": {
    "execution": {
     "iopub.execute_input": "2025-04-04T21:20:05.206321Z",
     "iopub.status.busy": "2025-04-04T21:20:05.205552Z",
     "iopub.status.idle": "2025-04-04T21:20:05.924803Z",
     "shell.execute_reply": "2025-04-04T21:20:05.923770Z",
     "shell.execute_reply.started": "2025-04-04T21:20:05.206289Z"
    },
    "trusted": true
   },
   "outputs": [],
   "source": [
    "from sklearn.model_selection import train_test_split\n",
    "\n",
    "X_train_tf, X_test_tf, y_train_tf, y_test_tf = train_test_split(X_tfidf, y, test_size=0.2, random_state=42)"
   ]
  },
  {
   "cell_type": "code",
   "execution_count": 47,
   "metadata": {
    "execution": {
     "iopub.execute_input": "2025-04-04T21:20:05.926202Z",
     "iopub.status.busy": "2025-04-04T21:20:05.925853Z",
     "iopub.status.idle": "2025-04-04T21:20:06.412941Z",
     "shell.execute_reply": "2025-04-04T21:20:06.411826Z",
     "shell.execute_reply.started": "2025-04-04T21:20:05.926170Z"
    },
    "trusted": true
   },
   "outputs": [],
   "source": [
    "# Pembagian data menjadi training dan testing\n",
    "X_train_w2v, X_test_w2v, y_train_w2v, y_test_w2v = train_test_split(X_w2v, y, test_size=0.2, random_state=42)"
   ]
  },
  {
   "cell_type": "markdown",
   "metadata": {},
   "source": [
    "### Melatih Model Machine Learning"
   ]
  },
  {
   "cell_type": "markdown",
   "metadata": {},
   "source": [
    "#### Model Naive Bayes"
   ]
  },
  {
   "cell_type": "code",
   "execution_count": 96,
   "metadata": {
    "execution": {
     "iopub.execute_input": "2025-04-03T11:02:47.214439Z",
     "iopub.status.busy": "2025-04-03T11:02:47.213943Z",
     "iopub.status.idle": "2025-04-03T11:02:48.861390Z",
     "shell.execute_reply": "2025-04-03T11:02:48.860209Z",
     "shell.execute_reply.started": "2025-04-03T11:02:47.214403Z"
    },
    "trusted": true
   },
   "outputs": [
    {
     "data": {
      "text/html": [
       "<style>#sk-container-id-1 {\n",
       "  /* Definition of color scheme common for light and dark mode */\n",
       "  --sklearn-color-text: black;\n",
       "  --sklearn-color-line: gray;\n",
       "  /* Definition of color scheme for unfitted estimators */\n",
       "  --sklearn-color-unfitted-level-0: #fff5e6;\n",
       "  --sklearn-color-unfitted-level-1: #f6e4d2;\n",
       "  --sklearn-color-unfitted-level-2: #ffe0b3;\n",
       "  --sklearn-color-unfitted-level-3: chocolate;\n",
       "  /* Definition of color scheme for fitted estimators */\n",
       "  --sklearn-color-fitted-level-0: #f0f8ff;\n",
       "  --sklearn-color-fitted-level-1: #d4ebff;\n",
       "  --sklearn-color-fitted-level-2: #b3dbfd;\n",
       "  --sklearn-color-fitted-level-3: cornflowerblue;\n",
       "\n",
       "  /* Specific color for light theme */\n",
       "  --sklearn-color-text-on-default-background: var(--sg-text-color, var(--theme-code-foreground, var(--jp-content-font-color1, black)));\n",
       "  --sklearn-color-background: var(--sg-background-color, var(--theme-background, var(--jp-layout-color0, white)));\n",
       "  --sklearn-color-border-box: var(--sg-text-color, var(--theme-code-foreground, var(--jp-content-font-color1, black)));\n",
       "  --sklearn-color-icon: #696969;\n",
       "\n",
       "  @media (prefers-color-scheme: dark) {\n",
       "    /* Redefinition of color scheme for dark theme */\n",
       "    --sklearn-color-text-on-default-background: var(--sg-text-color, var(--theme-code-foreground, var(--jp-content-font-color1, white)));\n",
       "    --sklearn-color-background: var(--sg-background-color, var(--theme-background, var(--jp-layout-color0, #111)));\n",
       "    --sklearn-color-border-box: var(--sg-text-color, var(--theme-code-foreground, var(--jp-content-font-color1, white)));\n",
       "    --sklearn-color-icon: #878787;\n",
       "  }\n",
       "}\n",
       "\n",
       "#sk-container-id-1 {\n",
       "  color: var(--sklearn-color-text);\n",
       "}\n",
       "\n",
       "#sk-container-id-1 pre {\n",
       "  padding: 0;\n",
       "}\n",
       "\n",
       "#sk-container-id-1 input.sk-hidden--visually {\n",
       "  border: 0;\n",
       "  clip: rect(1px 1px 1px 1px);\n",
       "  clip: rect(1px, 1px, 1px, 1px);\n",
       "  height: 1px;\n",
       "  margin: -1px;\n",
       "  overflow: hidden;\n",
       "  padding: 0;\n",
       "  position: absolute;\n",
       "  width: 1px;\n",
       "}\n",
       "\n",
       "#sk-container-id-1 div.sk-dashed-wrapped {\n",
       "  border: 1px dashed var(--sklearn-color-line);\n",
       "  margin: 0 0.4em 0.5em 0.4em;\n",
       "  box-sizing: border-box;\n",
       "  padding-bottom: 0.4em;\n",
       "  background-color: var(--sklearn-color-background);\n",
       "}\n",
       "\n",
       "#sk-container-id-1 div.sk-container {\n",
       "  /* jupyter's `normalize.less` sets `[hidden] { display: none; }`\n",
       "     but bootstrap.min.css set `[hidden] { display: none !important; }`\n",
       "     so we also need the `!important` here to be able to override the\n",
       "     default hidden behavior on the sphinx rendered scikit-learn.org.\n",
       "     See: https://github.com/scikit-learn/scikit-learn/issues/21755 */\n",
       "  display: inline-block !important;\n",
       "  position: relative;\n",
       "}\n",
       "\n",
       "#sk-container-id-1 div.sk-text-repr-fallback {\n",
       "  display: none;\n",
       "}\n",
       "\n",
       "div.sk-parallel-item,\n",
       "div.sk-serial,\n",
       "div.sk-item {\n",
       "  /* draw centered vertical line to link estimators */\n",
       "  background-image: linear-gradient(var(--sklearn-color-text-on-default-background), var(--sklearn-color-text-on-default-background));\n",
       "  background-size: 2px 100%;\n",
       "  background-repeat: no-repeat;\n",
       "  background-position: center center;\n",
       "}\n",
       "\n",
       "/* Parallel-specific style estimator block */\n",
       "\n",
       "#sk-container-id-1 div.sk-parallel-item::after {\n",
       "  content: \"\";\n",
       "  width: 100%;\n",
       "  border-bottom: 2px solid var(--sklearn-color-text-on-default-background);\n",
       "  flex-grow: 1;\n",
       "}\n",
       "\n",
       "#sk-container-id-1 div.sk-parallel {\n",
       "  display: flex;\n",
       "  align-items: stretch;\n",
       "  justify-content: center;\n",
       "  background-color: var(--sklearn-color-background);\n",
       "  position: relative;\n",
       "}\n",
       "\n",
       "#sk-container-id-1 div.sk-parallel-item {\n",
       "  display: flex;\n",
       "  flex-direction: column;\n",
       "}\n",
       "\n",
       "#sk-container-id-1 div.sk-parallel-item:first-child::after {\n",
       "  align-self: flex-end;\n",
       "  width: 50%;\n",
       "}\n",
       "\n",
       "#sk-container-id-1 div.sk-parallel-item:last-child::after {\n",
       "  align-self: flex-start;\n",
       "  width: 50%;\n",
       "}\n",
       "\n",
       "#sk-container-id-1 div.sk-parallel-item:only-child::after {\n",
       "  width: 0;\n",
       "}\n",
       "\n",
       "/* Serial-specific style estimator block */\n",
       "\n",
       "#sk-container-id-1 div.sk-serial {\n",
       "  display: flex;\n",
       "  flex-direction: column;\n",
       "  align-items: center;\n",
       "  background-color: var(--sklearn-color-background);\n",
       "  padding-right: 1em;\n",
       "  padding-left: 1em;\n",
       "}\n",
       "\n",
       "\n",
       "/* Toggleable style: style used for estimator/Pipeline/ColumnTransformer box that is\n",
       "clickable and can be expanded/collapsed.\n",
       "- Pipeline and ColumnTransformer use this feature and define the default style\n",
       "- Estimators will overwrite some part of the style using the `sk-estimator` class\n",
       "*/\n",
       "\n",
       "/* Pipeline and ColumnTransformer style (default) */\n",
       "\n",
       "#sk-container-id-1 div.sk-toggleable {\n",
       "  /* Default theme specific background. It is overwritten whether we have a\n",
       "  specific estimator or a Pipeline/ColumnTransformer */\n",
       "  background-color: var(--sklearn-color-background);\n",
       "}\n",
       "\n",
       "/* Toggleable label */\n",
       "#sk-container-id-1 label.sk-toggleable__label {\n",
       "  cursor: pointer;\n",
       "  display: block;\n",
       "  width: 100%;\n",
       "  margin-bottom: 0;\n",
       "  padding: 0.5em;\n",
       "  box-sizing: border-box;\n",
       "  text-align: center;\n",
       "}\n",
       "\n",
       "#sk-container-id-1 label.sk-toggleable__label-arrow:before {\n",
       "  /* Arrow on the left of the label */\n",
       "  content: \"▸\";\n",
       "  float: left;\n",
       "  margin-right: 0.25em;\n",
       "  color: var(--sklearn-color-icon);\n",
       "}\n",
       "\n",
       "#sk-container-id-1 label.sk-toggleable__label-arrow:hover:before {\n",
       "  color: var(--sklearn-color-text);\n",
       "}\n",
       "\n",
       "/* Toggleable content - dropdown */\n",
       "\n",
       "#sk-container-id-1 div.sk-toggleable__content {\n",
       "  max-height: 0;\n",
       "  max-width: 0;\n",
       "  overflow: hidden;\n",
       "  text-align: left;\n",
       "  /* unfitted */\n",
       "  background-color: var(--sklearn-color-unfitted-level-0);\n",
       "}\n",
       "\n",
       "#sk-container-id-1 div.sk-toggleable__content.fitted {\n",
       "  /* fitted */\n",
       "  background-color: var(--sklearn-color-fitted-level-0);\n",
       "}\n",
       "\n",
       "#sk-container-id-1 div.sk-toggleable__content pre {\n",
       "  margin: 0.2em;\n",
       "  border-radius: 0.25em;\n",
       "  color: var(--sklearn-color-text);\n",
       "  /* unfitted */\n",
       "  background-color: var(--sklearn-color-unfitted-level-0);\n",
       "}\n",
       "\n",
       "#sk-container-id-1 div.sk-toggleable__content.fitted pre {\n",
       "  /* unfitted */\n",
       "  background-color: var(--sklearn-color-fitted-level-0);\n",
       "}\n",
       "\n",
       "#sk-container-id-1 input.sk-toggleable__control:checked~div.sk-toggleable__content {\n",
       "  /* Expand drop-down */\n",
       "  max-height: 200px;\n",
       "  max-width: 100%;\n",
       "  overflow: auto;\n",
       "}\n",
       "\n",
       "#sk-container-id-1 input.sk-toggleable__control:checked~label.sk-toggleable__label-arrow:before {\n",
       "  content: \"▾\";\n",
       "}\n",
       "\n",
       "/* Pipeline/ColumnTransformer-specific style */\n",
       "\n",
       "#sk-container-id-1 div.sk-label input.sk-toggleable__control:checked~label.sk-toggleable__label {\n",
       "  color: var(--sklearn-color-text);\n",
       "  background-color: var(--sklearn-color-unfitted-level-2);\n",
       "}\n",
       "\n",
       "#sk-container-id-1 div.sk-label.fitted input.sk-toggleable__control:checked~label.sk-toggleable__label {\n",
       "  background-color: var(--sklearn-color-fitted-level-2);\n",
       "}\n",
       "\n",
       "/* Estimator-specific style */\n",
       "\n",
       "/* Colorize estimator box */\n",
       "#sk-container-id-1 div.sk-estimator input.sk-toggleable__control:checked~label.sk-toggleable__label {\n",
       "  /* unfitted */\n",
       "  background-color: var(--sklearn-color-unfitted-level-2);\n",
       "}\n",
       "\n",
       "#sk-container-id-1 div.sk-estimator.fitted input.sk-toggleable__control:checked~label.sk-toggleable__label {\n",
       "  /* fitted */\n",
       "  background-color: var(--sklearn-color-fitted-level-2);\n",
       "}\n",
       "\n",
       "#sk-container-id-1 div.sk-label label.sk-toggleable__label,\n",
       "#sk-container-id-1 div.sk-label label {\n",
       "  /* The background is the default theme color */\n",
       "  color: var(--sklearn-color-text-on-default-background);\n",
       "}\n",
       "\n",
       "/* On hover, darken the color of the background */\n",
       "#sk-container-id-1 div.sk-label:hover label.sk-toggleable__label {\n",
       "  color: var(--sklearn-color-text);\n",
       "  background-color: var(--sklearn-color-unfitted-level-2);\n",
       "}\n",
       "\n",
       "/* Label box, darken color on hover, fitted */\n",
       "#sk-container-id-1 div.sk-label.fitted:hover label.sk-toggleable__label.fitted {\n",
       "  color: var(--sklearn-color-text);\n",
       "  background-color: var(--sklearn-color-fitted-level-2);\n",
       "}\n",
       "\n",
       "/* Estimator label */\n",
       "\n",
       "#sk-container-id-1 div.sk-label label {\n",
       "  font-family: monospace;\n",
       "  font-weight: bold;\n",
       "  display: inline-block;\n",
       "  line-height: 1.2em;\n",
       "}\n",
       "\n",
       "#sk-container-id-1 div.sk-label-container {\n",
       "  text-align: center;\n",
       "}\n",
       "\n",
       "/* Estimator-specific */\n",
       "#sk-container-id-1 div.sk-estimator {\n",
       "  font-family: monospace;\n",
       "  border: 1px dotted var(--sklearn-color-border-box);\n",
       "  border-radius: 0.25em;\n",
       "  box-sizing: border-box;\n",
       "  margin-bottom: 0.5em;\n",
       "  /* unfitted */\n",
       "  background-color: var(--sklearn-color-unfitted-level-0);\n",
       "}\n",
       "\n",
       "#sk-container-id-1 div.sk-estimator.fitted {\n",
       "  /* fitted */\n",
       "  background-color: var(--sklearn-color-fitted-level-0);\n",
       "}\n",
       "\n",
       "/* on hover */\n",
       "#sk-container-id-1 div.sk-estimator:hover {\n",
       "  /* unfitted */\n",
       "  background-color: var(--sklearn-color-unfitted-level-2);\n",
       "}\n",
       "\n",
       "#sk-container-id-1 div.sk-estimator.fitted:hover {\n",
       "  /* fitted */\n",
       "  background-color: var(--sklearn-color-fitted-level-2);\n",
       "}\n",
       "\n",
       "/* Specification for estimator info (e.g. \"i\" and \"?\") */\n",
       "\n",
       "/* Common style for \"i\" and \"?\" */\n",
       "\n",
       ".sk-estimator-doc-link,\n",
       "a:link.sk-estimator-doc-link,\n",
       "a:visited.sk-estimator-doc-link {\n",
       "  float: right;\n",
       "  font-size: smaller;\n",
       "  line-height: 1em;\n",
       "  font-family: monospace;\n",
       "  background-color: var(--sklearn-color-background);\n",
       "  border-radius: 1em;\n",
       "  height: 1em;\n",
       "  width: 1em;\n",
       "  text-decoration: none !important;\n",
       "  margin-left: 1ex;\n",
       "  /* unfitted */\n",
       "  border: var(--sklearn-color-unfitted-level-1) 1pt solid;\n",
       "  color: var(--sklearn-color-unfitted-level-1);\n",
       "}\n",
       "\n",
       ".sk-estimator-doc-link.fitted,\n",
       "a:link.sk-estimator-doc-link.fitted,\n",
       "a:visited.sk-estimator-doc-link.fitted {\n",
       "  /* fitted */\n",
       "  border: var(--sklearn-color-fitted-level-1) 1pt solid;\n",
       "  color: var(--sklearn-color-fitted-level-1);\n",
       "}\n",
       "\n",
       "/* On hover */\n",
       "div.sk-estimator:hover .sk-estimator-doc-link:hover,\n",
       ".sk-estimator-doc-link:hover,\n",
       "div.sk-label-container:hover .sk-estimator-doc-link:hover,\n",
       ".sk-estimator-doc-link:hover {\n",
       "  /* unfitted */\n",
       "  background-color: var(--sklearn-color-unfitted-level-3);\n",
       "  color: var(--sklearn-color-background);\n",
       "  text-decoration: none;\n",
       "}\n",
       "\n",
       "div.sk-estimator.fitted:hover .sk-estimator-doc-link.fitted:hover,\n",
       ".sk-estimator-doc-link.fitted:hover,\n",
       "div.sk-label-container:hover .sk-estimator-doc-link.fitted:hover,\n",
       ".sk-estimator-doc-link.fitted:hover {\n",
       "  /* fitted */\n",
       "  background-color: var(--sklearn-color-fitted-level-3);\n",
       "  color: var(--sklearn-color-background);\n",
       "  text-decoration: none;\n",
       "}\n",
       "\n",
       "/* Span, style for the box shown on hovering the info icon */\n",
       ".sk-estimator-doc-link span {\n",
       "  display: none;\n",
       "  z-index: 9999;\n",
       "  position: relative;\n",
       "  font-weight: normal;\n",
       "  right: .2ex;\n",
       "  padding: .5ex;\n",
       "  margin: .5ex;\n",
       "  width: min-content;\n",
       "  min-width: 20ex;\n",
       "  max-width: 50ex;\n",
       "  color: var(--sklearn-color-text);\n",
       "  box-shadow: 2pt 2pt 4pt #999;\n",
       "  /* unfitted */\n",
       "  background: var(--sklearn-color-unfitted-level-0);\n",
       "  border: .5pt solid var(--sklearn-color-unfitted-level-3);\n",
       "}\n",
       "\n",
       ".sk-estimator-doc-link.fitted span {\n",
       "  /* fitted */\n",
       "  background: var(--sklearn-color-fitted-level-0);\n",
       "  border: var(--sklearn-color-fitted-level-3);\n",
       "}\n",
       "\n",
       ".sk-estimator-doc-link:hover span {\n",
       "  display: block;\n",
       "}\n",
       "\n",
       "/* \"?\"-specific style due to the `<a>` HTML tag */\n",
       "\n",
       "#sk-container-id-1 a.estimator_doc_link {\n",
       "  float: right;\n",
       "  font-size: 1rem;\n",
       "  line-height: 1em;\n",
       "  font-family: monospace;\n",
       "  background-color: var(--sklearn-color-background);\n",
       "  border-radius: 1rem;\n",
       "  height: 1rem;\n",
       "  width: 1rem;\n",
       "  text-decoration: none;\n",
       "  /* unfitted */\n",
       "  color: var(--sklearn-color-unfitted-level-1);\n",
       "  border: var(--sklearn-color-unfitted-level-1) 1pt solid;\n",
       "}\n",
       "\n",
       "#sk-container-id-1 a.estimator_doc_link.fitted {\n",
       "  /* fitted */\n",
       "  border: var(--sklearn-color-fitted-level-1) 1pt solid;\n",
       "  color: var(--sklearn-color-fitted-level-1);\n",
       "}\n",
       "\n",
       "/* On hover */\n",
       "#sk-container-id-1 a.estimator_doc_link:hover {\n",
       "  /* unfitted */\n",
       "  background-color: var(--sklearn-color-unfitted-level-3);\n",
       "  color: var(--sklearn-color-background);\n",
       "  text-decoration: none;\n",
       "}\n",
       "\n",
       "#sk-container-id-1 a.estimator_doc_link.fitted:hover {\n",
       "  /* fitted */\n",
       "  background-color: var(--sklearn-color-fitted-level-3);\n",
       "}\n",
       "</style><div id=\"sk-container-id-1\" class=\"sk-top-container\"><div class=\"sk-text-repr-fallback\"><pre>MultinomialNB(alpha=5.0)</pre><b>In a Jupyter environment, please rerun this cell to show the HTML representation or trust the notebook. <br />On GitHub, the HTML representation is unable to render, please try loading this page with nbviewer.org.</b></div><div class=\"sk-container\" hidden><div class=\"sk-item\"><div class=\"sk-estimator fitted sk-toggleable\"><input class=\"sk-toggleable__control sk-hidden--visually\" id=\"sk-estimator-id-1\" type=\"checkbox\" checked><label for=\"sk-estimator-id-1\" class=\"sk-toggleable__label fitted sk-toggleable__label-arrow fitted\">&nbsp;&nbsp;MultinomialNB<a class=\"sk-estimator-doc-link fitted\" rel=\"noreferrer\" target=\"_blank\" href=\"https://scikit-learn.org/1.5/modules/generated/sklearn.naive_bayes.MultinomialNB.html\">?<span>Documentation for MultinomialNB</span></a><span class=\"sk-estimator-doc-link fitted\">i<span>Fitted</span></span></label><div class=\"sk-toggleable__content fitted\"><pre>MultinomialNB(alpha=5.0)</pre></div> </div></div></div></div>"
      ],
      "text/plain": [
       "MultinomialNB(alpha=5.0)"
      ]
     },
     "execution_count": 96,
     "metadata": {},
     "output_type": "execute_result"
    }
   ],
   "source": [
    "from sklearn.naive_bayes import MultinomialNB\n",
    "\n",
    "# Buat model Naive Bayes\n",
    "model_nb = MultinomialNB(alpha=5.0)\n",
    "model_nb.fit(X_train_tf, y_train_tf)"
   ]
  },
  {
   "cell_type": "markdown",
   "metadata": {},
   "source": [
    "Evaluasi model Naive Bayes"
   ]
  },
  {
   "cell_type": "code",
   "execution_count": 97,
   "metadata": {
    "execution": {
     "iopub.execute_input": "2025-04-03T11:02:54.847898Z",
     "iopub.status.busy": "2025-04-03T11:02:54.847417Z",
     "iopub.status.idle": "2025-04-03T11:02:55.203733Z",
     "shell.execute_reply": "2025-04-03T11:02:55.202616Z",
     "shell.execute_reply.started": "2025-04-03T11:02:54.847865Z"
    },
    "trusted": true
   },
   "outputs": [
    {
     "name": "stdout",
     "output_type": "stream",
     "text": [
      "Akurasi Testing: 0.9009383582545011\n",
      "Laporan Klasifikasi:\n",
      "               precision    recall  f1-score   support\n",
      "\n",
      "         0.0       0.86      0.90      0.88     20820\n",
      "         1.0       0.93      0.90      0.92     31612\n",
      "\n",
      "    accuracy                           0.90     52432\n",
      "   macro avg       0.89      0.90      0.90     52432\n",
      "weighted avg       0.90      0.90      0.90     52432\n",
      "\n"
     ]
    }
   ],
   "source": [
    "from sklearn.metrics import classification_report, accuracy_score\n",
    "\n",
    "# Prediksi pada data uji\n",
    "y_pred = model_nb.predict(X_test_tf)\n",
    "# Evaluasi performa model\n",
    "# print(\"Akurasi Training:\", accuracy_score(y_train_tf, ))\n",
    "print(\"Akurasi Testing:\", accuracy_score(y_test_tf, y_pred))\n",
    "print(\"Laporan Klasifikasi:\\n\", classification_report(y_test_tf, y_pred))"
   ]
  },
  {
   "cell_type": "markdown",
   "metadata": {},
   "source": [
    "Confussion Matriks Naive Bayes"
   ]
  },
  {
   "cell_type": "code",
   "execution_count": 98,
   "metadata": {
    "execution": {
     "iopub.execute_input": "2025-04-03T11:03:00.327482Z",
     "iopub.status.busy": "2025-04-03T11:03:00.327128Z",
     "iopub.status.idle": "2025-04-03T11:03:00.632956Z",
     "shell.execute_reply": "2025-04-03T11:03:00.631792Z",
     "shell.execute_reply.started": "2025-04-03T11:03:00.327454Z"
    },
    "trusted": true
   },
   "outputs": [
    {
     "data": {
      "image/png": "[encoded data removed]",
      "text/plain": [
       "<Figure size 800x600 with 2 Axes>"
      ]
     },
     "metadata": {},
     "output_type": "display_data"
    }
   ],
   "source": [
    "conf_matrix = confusion_matrix(y_test_tf, y_pred)\n",
    "\n",
    "# Plot confussion matriks\n",
    "plt.figure(figsize=(8, 6))\n",
    "sns.heatmap(conf_matrix, annot=True, fmt='d', cmap='Blues', xticklabels=['Negative', 'Positive'], yticklabels=['Negative', 'Positive'])\n",
    "plt.xlabel('Predicted')\n",
    "plt.ylabel('Actual')\n",
    "plt.title('Confusion Matrix - Naive Bayes')\n",
    "plt.show()"
   ]
  },
  {
   "cell_type": "markdown",
   "metadata": {},
   "source": [
    "Testing model Naive Bayes"
   ]
  },
  {
   "cell_type": "code",
   "execution_count": 99,
   "metadata": {
    "execution": {
     "iopub.execute_input": "2025-04-03T11:04:44.731322Z",
     "iopub.status.busy": "2025-04-03T11:04:44.730926Z",
     "iopub.status.idle": "2025-04-03T11:04:44.742073Z",
     "shell.execute_reply": "2025-04-03T11:04:44.740951Z",
     "shell.execute_reply.started": "2025-04-03T11:04:44.731292Z"
    },
    "trusted": true
   },
   "outputs": [
    {
     "name": "stdout",
     "output_type": "stream",
     "text": [
      "Komentar: Aplikasinya jelek, pelayannanya kurang! → Sentimen: Negatif\n",
      "Komentar: Saya sangat puas dengan pelayanannya. → Sentimen: Positif\n"
     ]
    }
   ],
   "source": [
    "komentar_baru = [\"Aplikasinya jelek, pelayannanya kurang!\", \"Saya sangat puas dengan pelayanannya.\"]\n",
    "\n",
    "# Bersihkan teks & gabungkan kembali ke string\n",
    "komentar_baru_bersih = [' '.join(bersihkan_teks(k)) for k in komentar_baru]\n",
    "\n",
    "# Transformasi ke TF-IDF\n",
    "X_baru = tfidf_vectorizer.transform(komentar_baru_bersih)\n",
    "\n",
    "# Prediksi Sentimen\n",
    "prediksi = model_nb.predict(X_baru)\n",
    "\n",
    "# Tampilkan hasil\n",
    "for komentar, sentimen in zip(komentar_baru, prediksi):\n",
    "    print(f\"Komentar: {komentar} → Sentimen: {'Positif' if sentimen == 1 else 'Negatif'}\")\n"
   ]
  },
  {
   "cell_type": "markdown",
   "metadata": {},
   "source": [
    "#### Model Linear Regression"
   ]
  },
  {
   "cell_type": "code",
   "execution_count": 33,
   "metadata": {
    "execution": {
     "iopub.execute_input": "2025-04-03T11:07:41.182998Z",
     "iopub.status.busy": "2025-04-03T11:07:41.182649Z",
     "iopub.status.idle": "2025-04-03T11:11:12.984870Z",
     "shell.execute_reply": "2025-04-03T11:11:12.983907Z",
     "shell.execute_reply.started": "2025-04-03T11:07:41.182972Z"
    },
    "trusted": true
   },
   "outputs": [],
   "source": [
    "from sklearn.linear_model import LogisticRegression\n",
    "\n",
    "model_lr = LogisticRegression(max_iter=500, C=10, solver= \"saga\", class_weight=\"balanced\")\n",
    "model_lr.fit(X_train_tf, y_train_tf)\n",
    "y_pred_lr = model_lr.predict(X_test_tf)"
   ]
  },
  {
   "cell_type": "markdown",
   "metadata": {},
   "source": [
    "Evaluasi Model Logistic Regression"
   ]
  },
  {
   "cell_type": "code",
   "execution_count": 35,
   "metadata": {
    "execution": {
     "iopub.execute_input": "2025-04-03T11:12:21.258038Z",
     "iopub.status.busy": "2025-04-03T11:12:21.257670Z",
     "iopub.status.idle": "2025-04-03T11:12:21.423572Z",
     "shell.execute_reply": "2025-04-03T11:12:21.422237Z",
     "shell.execute_reply.started": "2025-04-03T11:12:21.258013Z"
    },
    "trusted": true
   },
   "outputs": [
    {
     "name": "stdout",
     "output_type": "stream",
     "text": [
      "Akurasi: 0.9121147390906317\n",
      "Laporan Klasifikasi:\n",
      "               precision    recall  f1-score   support\n",
      "\n",
      "         0.0       0.86      0.92      0.89     20820\n",
      "         1.0       0.95      0.90      0.93     31612\n",
      "\n",
      "    accuracy                           0.91     52432\n",
      "   macro avg       0.91      0.91      0.91     52432\n",
      "weighted avg       0.91      0.91      0.91     52432\n",
      "\n"
     ]
    }
   ],
   "source": [
    "# Evaluasi performa model\n",
    "print(\"Akurasi:\", accuracy_score(y_test_tf, y_pred_lr))\n",
    "print(\"Laporan Klasifikasi:\\n\", classification_report(y_test_tf, y_pred_lr))"
   ]
  },
  {
   "cell_type": "markdown",
   "metadata": {},
   "source": [
    "Confussion Matrix Logistic Regression"
   ]
  },
  {
   "cell_type": "code",
   "execution_count": 37,
   "metadata": {
    "execution": {
     "iopub.execute_input": "2025-04-03T11:13:39.206054Z",
     "iopub.status.busy": "2025-04-03T11:13:39.205593Z",
     "iopub.status.idle": "2025-04-03T11:13:39.471122Z",
     "shell.execute_reply": "2025-04-03T11:13:39.469883Z",
     "shell.execute_reply.started": "2025-04-03T11:13:39.206024Z"
    },
    "trusted": true
   },
   "outputs": [
    {
     "data": {
      "image/png": "[encoded data removed]",
      "text/plain": [
       "<Figure size 800x600 with 2 Axes>"
      ]
     },
     "metadata": {},
     "output_type": "display_data"
    }
   ],
   "source": [
    "# Confussion matriks Logistic Regression\n",
    "conf_matrix_lr = confusion_matrix(y_test_tf, y_pred_lr)\n",
    "\n",
    "# Plot confussion matriks\n",
    "plt.figure(figsize=(8, 6))\n",
    "sns.heatmap(conf_matrix_lr, annot=True, fmt='d', cmap='Blues', xticklabels=['Negative', 'Positive'], yticklabels=['Negative', 'Positive'])\n",
    "plt.xlabel('Predicted')\n",
    "plt.ylabel('Actual')\n",
    "plt.title('Confusion Matrix - Logistic Regression')\n",
    "plt.show()"
   ]
  },
  {
   "cell_type": "markdown",
   "metadata": {},
   "source": [
    "Testing model Logistic Regression"
   ]
  },
  {
   "cell_type": "code",
   "execution_count": 40,
   "metadata": {
    "execution": {
     "iopub.execute_input": "2025-04-03T11:17:15.380612Z",
     "iopub.status.busy": "2025-04-03T11:17:15.380172Z",
     "iopub.status.idle": "2025-04-03T11:17:15.393860Z",
     "shell.execute_reply": "2025-04-03T11:17:15.392431Z",
     "shell.execute_reply.started": "2025-04-03T11:17:15.380580Z"
    },
    "trusted": true
   },
   "outputs": [
    {
     "name": "stdout",
     "output_type": "stream",
     "text": [
      "Komentar: Uang yang saya transfer telat terkirim → Sentimen: Negatif\n",
      "Komentar: Cepat banget kalo soal transfer → Sentimen: Positif\n",
      "Komentar: aplikasinya bagus cuyy! → Sentimen: Positif\n",
      "Komentar: Csnya gak bener sumpah, lama banget pelayanannya → Sentimen: Negatif\n"
     ]
    }
   ],
   "source": [
    "komentar_baru = [\"Uang yang saya transfer telat terkirim\", \"Cepat banget kalo soal transfer\", \"aplikasinya bagus cuyy!\", \"Csnya gak bener sumpah, lama banget pelayanannya\"]\n",
    "\n",
    "# Bersihkan teks & gabungkan kembali ke string\n",
    "komentar_baru_bersih = [' '.join(bersihkan_teks(k)) for k in komentar_baru]\n",
    "\n",
    "# Transformasi ke TF-IDF\n",
    "X_baru = tfidf_vectorizer.transform(komentar_baru_bersih)\n",
    "\n",
    "# Prediksi Sentimen\n",
    "prediksi = model_lr.predict(X_baru)\n",
    "\n",
    "# Tampilkan hasil\n",
    "for komentar, sentimen in zip(komentar_baru, prediksi):\n",
    "    print(f\"Komentar: {komentar} → Sentimen: {'Positif' if sentimen == 1 else 'Negatif'}\")"
   ]
  },
  {
   "cell_type": "markdown",
   "metadata": {},
   "source": [
    "#### Model MLP"
   ]
  },
  {
   "cell_type": "code",
   "execution_count": 41,
   "metadata": {
    "execution": {
     "iopub.execute_input": "2025-04-03T11:21:45.628698Z",
     "iopub.status.busy": "2025-04-03T11:21:45.628178Z",
     "iopub.status.idle": "2025-04-03T11:27:54.428524Z",
     "shell.execute_reply": "2025-04-03T11:27:54.427296Z",
     "shell.execute_reply.started": "2025-04-03T11:21:45.628670Z"
    },
    "trusted": true
   },
   "outputs": [
    {
     "data": {
      "text/html": [
       "<style>#sk-container-id-2 {color: black;background-color: white;}#sk-container-id-2 pre{padding: 0;}#sk-container-id-2 div.sk-toggleable {background-color: white;}#sk-container-id-2 label.sk-toggleable__label {cursor: pointer;display: block;width: 100%;margin-bottom: 0;padding: 0.3em;box-sizing: border-box;text-align: center;}#sk-container-id-2 label.sk-toggleable__label-arrow:before {content: \"▸\";float: left;margin-right: 0.25em;color: #696969;}#sk-container-id-2 label.sk-toggleable__label-arrow:hover:before {color: black;}#sk-container-id-2 div.sk-estimator:hover label.sk-toggleable__label-arrow:before {color: black;}#sk-container-id-2 div.sk-toggleable__content {max-height: 0;max-width: 0;overflow: hidden;text-align: left;background-color: #f0f8ff;}#sk-container-id-2 div.sk-toggleable__content pre {margin: 0.2em;color: black;border-radius: 0.25em;background-color: #f0f8ff;}#sk-container-id-2 input.sk-toggleable__control:checked~div.sk-toggleable__content {max-height: 200px;max-width: 100%;overflow: auto;}#sk-container-id-2 input.sk-toggleable__control:checked~label.sk-toggleable__label-arrow:before {content: \"▾\";}#sk-container-id-2 div.sk-estimator input.sk-toggleable__control:checked~label.sk-toggleable__label {background-color: #d4ebff;}#sk-container-id-2 div.sk-label input.sk-toggleable__control:checked~label.sk-toggleable__label {background-color: #d4ebff;}#sk-container-id-2 input.sk-hidden--visually {border: 0;clip: rect(1px 1px 1px 1px);clip: rect(1px, 1px, 1px, 1px);height: 1px;margin: -1px;overflow: hidden;padding: 0;position: absolute;width: 1px;}#sk-container-id-2 div.sk-estimator {font-family: monospace;background-color: #f0f8ff;border: 1px dotted black;border-radius: 0.25em;box-sizing: border-box;margin-bottom: 0.5em;}#sk-container-id-2 div.sk-estimator:hover {background-color: #d4ebff;}#sk-container-id-2 div.sk-parallel-item::after {content: \"\";width: 100%;border-bottom: 1px solid gray;flex-grow: 1;}#sk-container-id-2 div.sk-label:hover label.sk-toggleable__label {background-color: #d4ebff;}#sk-container-id-2 div.sk-serial::before {content: \"\";position: absolute;border-left: 1px solid gray;box-sizing: border-box;top: 0;bottom: 0;left: 50%;z-index: 0;}#sk-container-id-2 div.sk-serial {display: flex;flex-direction: column;align-items: center;background-color: white;padding-right: 0.2em;padding-left: 0.2em;position: relative;}#sk-container-id-2 div.sk-item {position: relative;z-index: 1;}#sk-container-id-2 div.sk-parallel {display: flex;align-items: stretch;justify-content: center;background-color: white;position: relative;}#sk-container-id-2 div.sk-item::before, #sk-container-id-2 div.sk-parallel-item::before {content: \"\";position: absolute;border-left: 1px solid gray;box-sizing: border-box;top: 0;bottom: 0;left: 50%;z-index: -1;}#sk-container-id-2 div.sk-parallel-item {display: flex;flex-direction: column;z-index: 1;position: relative;background-color: white;}#sk-container-id-2 div.sk-parallel-item:first-child::after {align-self: flex-end;width: 50%;}#sk-container-id-2 div.sk-parallel-item:last-child::after {align-self: flex-start;width: 50%;}#sk-container-id-2 div.sk-parallel-item:only-child::after {width: 0;}#sk-container-id-2 div.sk-dashed-wrapped {border: 1px dashed gray;margin: 0 0.4em 0.5em 0.4em;box-sizing: border-box;padding-bottom: 0.4em;background-color: white;}#sk-container-id-2 div.sk-label label {font-family: monospace;font-weight: bold;display: inline-block;line-height: 1.2em;}#sk-container-id-2 div.sk-label-container {text-align: center;}#sk-container-id-2 div.sk-container {/* jupyter's `normalize.less` sets `[hidden] { display: none; }` but bootstrap.min.css set `[hidden] { display: none !important; }` so we also need the `!important` here to be able to override the default hidden behavior on the sphinx rendered scikit-learn.org. See: https://github.com/scikit-learn/scikit-learn/issues/21755 */display: inline-block !important;position: relative;}#sk-container-id-2 div.sk-text-repr-fallback {display: none;}</style><div id=\"sk-container-id-2\" class=\"sk-top-container\"><div class=\"sk-text-repr-fallback\"><pre>MLPClassifier(alpha=0.5, batch_size=16, early_stopping=True,\n",
       "              hidden_layer_sizes=(32, 16), learning_rate=&#x27;adaptive&#x27;,\n",
       "              max_iter=100, random_state=42)</pre><b>In a Jupyter environment, please rerun this cell to show the HTML representation or trust the notebook. <br />On GitHub, the HTML representation is unable to render, please try loading this page with nbviewer.org.</b></div><div class=\"sk-container\" hidden><div class=\"sk-item\"><div class=\"sk-estimator sk-toggleable\"><input class=\"sk-toggleable__control sk-hidden--visually\" id=\"sk-estimator-id-2\" type=\"checkbox\" checked><label for=\"sk-estimator-id-2\" class=\"sk-toggleable__label sk-toggleable__label-arrow\">MLPClassifier</label><div class=\"sk-toggleable__content\"><pre>MLPClassifier(alpha=0.5, batch_size=16, early_stopping=True,\n",
       "              hidden_layer_sizes=(32, 16), learning_rate=&#x27;adaptive&#x27;,\n",
       "              max_iter=100, random_state=42)</pre></div></div></div></div></div>"
      ],
      "text/plain": [
       "MLPClassifier(alpha=0.5, batch_size=16, early_stopping=True,\n",
       "              hidden_layer_sizes=(32, 16), learning_rate='adaptive',\n",
       "              max_iter=100, random_state=42)"
      ]
     },
     "execution_count": 41,
     "metadata": {},
     "output_type": "execute_result"
    }
   ],
   "source": [
    "# Model MLP\n",
    "from sklearn.neural_network import MLPClassifier\n",
    "\n",
    "# Buat model MLP\n",
    "model_mlp = MLPClassifier(\n",
    "    hidden_layer_sizes=(32, 16),\n",
    "    activation='relu',\n",
    "    solver='adam',\n",
    "    alpha=0.5,\n",
    "    batch_size=16,\n",
    "    learning_rate='adaptive',\n",
    "    learning_rate_init=0.001,\n",
    "    max_iter=100,\n",
    "    early_stopping=True,\n",
    "    n_iter_no_change=10,\n",
    "    random_state=42\n",
    ")\n",
    "model_mlp.fit(X_train_w2v, y_train_w2v)"
   ]
  },
  {
   "cell_type": "markdown",
   "metadata": {},
   "source": [
    "Evaluasi Model MLP"
   ]
  },
  {
   "cell_type": "code",
   "execution_count": 42,
   "metadata": {
    "execution": {
     "iopub.execute_input": "2025-04-03T11:29:17.283470Z",
     "iopub.status.busy": "2025-04-03T11:29:17.283085Z",
     "iopub.status.idle": "2025-04-03T11:29:17.817245Z",
     "shell.execute_reply": "2025-04-03T11:29:17.816134Z",
     "shell.execute_reply.started": "2025-04-03T11:29:17.283443Z"
    },
    "trusted": true
   },
   "outputs": [
    {
     "name": "stdout",
     "output_type": "stream",
     "text": [
      "Akurasi: 0.8945109856576137\n",
      "Laporan Klasifikasi:\n",
      "               precision    recall  f1-score   support\n",
      "\n",
      "         0.0       0.84      0.91      0.87     20820\n",
      "         1.0       0.94      0.88      0.91     31612\n",
      "\n",
      "    accuracy                           0.89     52432\n",
      "   macro avg       0.89      0.90      0.89     52432\n",
      "weighted avg       0.90      0.89      0.90     52432\n",
      "\n"
     ]
    }
   ],
   "source": [
    "# Evaluasi performa model\n",
    "y_pred_mlp = model_mlp.predict(X_test_w2v)\n",
    "print(\"Akurasi:\", accuracy_score(y_test_w2v, y_pred_mlp))\n",
    "print(\"Laporan Klasifikasi:\\n\", classification_report(y_test_w2v, y_pred_mlp))"
   ]
  },
  {
   "cell_type": "markdown",
   "metadata": {},
   "source": [
    "Confusion Matrix model MLP"
   ]
  },
  {
   "cell_type": "code",
   "execution_count": 43,
   "metadata": {
    "execution": {
     "iopub.execute_input": "2025-04-03T11:29:23.984931Z",
     "iopub.status.busy": "2025-04-03T11:29:23.984470Z",
     "iopub.status.idle": "2025-04-03T11:29:24.240638Z",
     "shell.execute_reply": "2025-04-03T11:29:24.239439Z",
     "shell.execute_reply.started": "2025-04-03T11:29:23.984899Z"
    },
    "trusted": true
   },
   "outputs": [
    {
     "data": {
      "image/png": "[encoded data removed]",
      "text/plain": [
       "<Figure size 800x600 with 2 Axes>"
      ]
     },
     "metadata": {},
     "output_type": "display_data"
    }
   ],
   "source": [
    "# Confussion matriks mlp\n",
    "conf_matrix_mlp = confusion_matrix(y_test_w2v, y_pred_mlp)\n",
    "\n",
    "# Plot confussion matriks\n",
    "plt.figure(figsize=(8, 6))\n",
    "sns.heatmap(conf_matrix_mlp, annot=True, fmt='d', cmap='Blues', xticklabels=['Negative', 'Positive'], yticklabels=['Negative', 'Positive'])\n",
    "plt.xlabel('Predicted')\n",
    "plt.ylabel('Actual')\n",
    "plt.title('Confusion Matrix - MLP')\n",
    "plt.show()"
   ]
  },
  {
   "cell_type": "markdown",
   "metadata": {},
   "source": [
    "Testing model MLP"
   ]
  },
  {
   "cell_type": "code",
   "execution_count": 44,
   "metadata": {
    "execution": {
     "iopub.execute_input": "2025-04-03T11:29:39.450121Z",
     "iopub.status.busy": "2025-04-03T11:29:39.449743Z",
     "iopub.status.idle": "2025-04-03T11:29:39.459057Z",
     "shell.execute_reply": "2025-04-03T11:29:39.458111Z",
     "shell.execute_reply.started": "2025-04-03T11:29:39.450093Z"
    },
    "trusted": true
   },
   "outputs": [
    {
     "name": "stdout",
     "output_type": "stream",
     "text": [
      "Teks: Pelayanan yang sangat baik! -> Sentimen: Positif\n",
      "Teks: jelek bnaget aplikasinya!. -> Sentimen: Negatif\n"
     ]
    }
   ],
   "source": [
    "new_texts = [\"Pelayanan yang sangat baik!\", \n",
    "             \"jelek bnaget aplikasinya!.\"]\n",
    "# Ubah teks menjadi vektor Word2Vec\n",
    "\n",
    "X_new_w2v = np.array([get_sentence_vector(text, model_w2v) for text in new_texts])\n",
    "\n",
    "# Prediksi dengan model yang telah dilatih\n",
    "predictions = model_mlp.predict(X_new_w2v)\n",
    "\n",
    "# Konversi hasil sigmoid menjadi label (0 atau 1)\n",
    "predicted_labels = (predictions > 0.5).astype(int)\n",
    "\n",
    "# Menampilkan hasil prediksi\n",
    "for text, label in zip(new_texts, predicted_labels):\n",
    "    sentiment = \"Positif\" if label == 1 else \"Negatif\"\n",
    "    print(f\"Teks: {text} -> Sentimen: {sentiment}\")"
   ]
  },
  {
   "cell_type": "markdown",
   "metadata": {},
   "source": [
    "### Melatih Model dengan Deep Learning"
   ]
  },
  {
   "cell_type": "code",
   "execution_count": null,
   "metadata": {
    "execution": {
     "iopub.execute_input": "2025-04-04T21:20:06.414620Z",
     "iopub.status.busy": "2025-04-04T21:20:06.414179Z",
     "iopub.status.idle": "2025-04-04T21:20:06.690265Z",
     "shell.execute_reply": "2025-04-04T21:20:06.689269Z",
     "shell.execute_reply.started": "2025-04-04T21:20:06.414582Z"
    },
    "trusted": true
   },
   "outputs": [],
   "source": [
    "from tensorflow.keras import layers, models\n",
    "from tensorflow.keras.optimizers import Adam"
   ]
  },
  {
   "cell_type": "code",
   "execution_count": 27,
   "metadata": {
    "execution": {
     "iopub.execute_input": "2025-04-04T06:10:05.655556Z",
     "iopub.status.busy": "2025-04-04T06:10:05.655173Z",
     "iopub.status.idle": "2025-04-04T06:10:05.854114Z",
     "shell.execute_reply": "2025-04-04T06:10:05.852907Z",
     "shell.execute_reply.started": "2025-04-04T06:10:05.655528Z"
    },
    "trusted": true
   },
   "outputs": [
    {
     "name": "stderr",
     "output_type": "stream",
     "text": [
      "/usr/local/lib/python3.10/dist-packages/keras/src/layers/convolutional/base_conv.py:107: UserWarning: Do not pass an `input_shape`/`input_dim` argument to a layer. When using Sequential models, prefer using an `Input(shape)` object as the first layer in the model instead.\n",
      "  super().__init__(activity_regularizer=activity_regularizer, **kwargs)\n"
     ]
    },
    {
     "data": {
      "text/html": [
       "<pre style=\"white-space:pre;overflow-x:auto;line-height:normal;font-family:Menlo,'DejaVu Sans Mono',consolas,'Courier New',monospace\"><span style=\"font-weight: bold\">Model: \"sequential\"</span>\n",
       "</pre>\n"
      ],
      "text/plain": [
       "\u001b[1mModel: \"sequential\"\u001b[0m\n"
      ]
     },
     "metadata": {},
     "output_type": "display_data"
    },
    {
     "data": {
      "text/html": [
       "<pre style=\"white-space:pre;overflow-x:auto;line-height:normal;font-family:Menlo,'DejaVu Sans Mono',consolas,'Courier New',monospace\">┏━━━━━━━━━━━━━━━━━━━━━━━━━━━━━━━━━━━━━━┳━━━━━━━━━━━━━━━━━━━━━━━━━━━━━┳━━━━━━━━━━━━━━━━━┓\n",
       "┃<span style=\"font-weight: bold\"> Layer (type)                         </span>┃<span style=\"font-weight: bold\"> Output Shape                </span>┃<span style=\"font-weight: bold\">         Param # </span>┃\n",
       "┡━━━━━━━━━━━━━━━━━━━━━━━━━━━━━━━━━━━━━━╇━━━━━━━━━━━━━━━━━━━━━━━━━━━━━╇━━━━━━━━━━━━━━━━━┩\n",
       "│ conv1d (<span style=\"color: #0087ff; text-decoration-color: #0087ff\">Conv1D</span>)                      │ (<span style=\"color: #00d7ff; text-decoration-color: #00d7ff\">None</span>, <span style=\"color: #00af00; text-decoration-color: #00af00\">498</span>, <span style=\"color: #00af00; text-decoration-color: #00af00\">64</span>)             │             <span style=\"color: #00af00; text-decoration-color: #00af00\">256</span> │\n",
       "├──────────────────────────────────────┼─────────────────────────────┼─────────────────┤\n",
       "│ max_pooling1d (<span style=\"color: #0087ff; text-decoration-color: #0087ff\">MaxPooling1D</span>)         │ (<span style=\"color: #00d7ff; text-decoration-color: #00d7ff\">None</span>, <span style=\"color: #00af00; text-decoration-color: #00af00\">249</span>, <span style=\"color: #00af00; text-decoration-color: #00af00\">64</span>)             │               <span style=\"color: #00af00; text-decoration-color: #00af00\">0</span> │\n",
       "├──────────────────────────────────────┼─────────────────────────────┼─────────────────┤\n",
       "│ lstm (<span style=\"color: #0087ff; text-decoration-color: #0087ff\">LSTM</span>)                          │ (<span style=\"color: #00d7ff; text-decoration-color: #00d7ff\">None</span>, <span style=\"color: #00af00; text-decoration-color: #00af00\">64</span>)                  │          <span style=\"color: #00af00; text-decoration-color: #00af00\">33,024</span> │\n",
       "├──────────────────────────────────────┼─────────────────────────────┼─────────────────┤\n",
       "│ dense (<span style=\"color: #0087ff; text-decoration-color: #0087ff\">Dense</span>)                        │ (<span style=\"color: #00d7ff; text-decoration-color: #00d7ff\">None</span>, <span style=\"color: #00af00; text-decoration-color: #00af00\">32</span>)                  │           <span style=\"color: #00af00; text-decoration-color: #00af00\">2,080</span> │\n",
       "├──────────────────────────────────────┼─────────────────────────────┼─────────────────┤\n",
       "│ dropout (<span style=\"color: #0087ff; text-decoration-color: #0087ff\">Dropout</span>)                    │ (<span style=\"color: #00d7ff; text-decoration-color: #00d7ff\">None</span>, <span style=\"color: #00af00; text-decoration-color: #00af00\">32</span>)                  │               <span style=\"color: #00af00; text-decoration-color: #00af00\">0</span> │\n",
       "├──────────────────────────────────────┼─────────────────────────────┼─────────────────┤\n",
       "│ dense_1 (<span style=\"color: #0087ff; text-decoration-color: #0087ff\">Dense</span>)                      │ (<span style=\"color: #00d7ff; text-decoration-color: #00d7ff\">None</span>, <span style=\"color: #00af00; text-decoration-color: #00af00\">1</span>)                   │              <span style=\"color: #00af00; text-decoration-color: #00af00\">33</span> │\n",
       "└──────────────────────────────────────┴─────────────────────────────┴─────────────────┘\n",
       "</pre>\n"
      ],
      "text/plain": [
       "┏━━━━━━━━━━━━━━━━━━━━━━━━━━━━━━━━━━━━━━┳━━━━━━━━━━━━━━━━━━━━━━━━━━━━━┳━━━━━━━━━━━━━━━━━┓\n",
       "┃\u001b[1m \u001b[0m\u001b[1mLayer (type)                        \u001b[0m\u001b[1m \u001b[0m┃\u001b[1m \u001b[0m\u001b[1mOutput Shape               \u001b[0m\u001b[1m \u001b[0m┃\u001b[1m \u001b[0m\u001b[1m        Param #\u001b[0m\u001b[1m \u001b[0m┃\n",
       "┡━━━━━━━━━━━━━━━━━━━━━━━━━━━━━━━━━━━━━━╇━━━━━━━━━━━━━━━━━━━━━━━━━━━━━╇━━━━━━━━━━━━━━━━━┩\n",
       "│ conv1d (\u001b[38;5;33mConv1D\u001b[0m)                      │ (\u001b[38;5;45mNone\u001b[0m, \u001b[38;5;34m498\u001b[0m, \u001b[38;5;34m64\u001b[0m)             │             \u001b[38;5;34m256\u001b[0m │\n",
       "├──────────────────────────────────────┼─────────────────────────────┼─────────────────┤\n",
       "│ max_pooling1d (\u001b[38;5;33mMaxPooling1D\u001b[0m)         │ (\u001b[38;5;45mNone\u001b[0m, \u001b[38;5;34m249\u001b[0m, \u001b[38;5;34m64\u001b[0m)             │               \u001b[38;5;34m0\u001b[0m │\n",
       "├──────────────────────────────────────┼─────────────────────────────┼─────────────────┤\n",
       "│ lstm (\u001b[38;5;33mLSTM\u001b[0m)                          │ (\u001b[38;5;45mNone\u001b[0m, \u001b[38;5;34m64\u001b[0m)                  │          \u001b[38;5;34m33,024\u001b[0m │\n",
       "├──────────────────────────────────────┼─────────────────────────────┼─────────────────┤\n",
       "│ dense (\u001b[38;5;33mDense\u001b[0m)                        │ (\u001b[38;5;45mNone\u001b[0m, \u001b[38;5;34m32\u001b[0m)                  │           \u001b[38;5;34m2,080\u001b[0m │\n",
       "├──────────────────────────────────────┼─────────────────────────────┼─────────────────┤\n",
       "│ dropout (\u001b[38;5;33mDropout\u001b[0m)                    │ (\u001b[38;5;45mNone\u001b[0m, \u001b[38;5;34m32\u001b[0m)                  │               \u001b[38;5;34m0\u001b[0m │\n",
       "├──────────────────────────────────────┼─────────────────────────────┼─────────────────┤\n",
       "│ dense_1 (\u001b[38;5;33mDense\u001b[0m)                      │ (\u001b[38;5;45mNone\u001b[0m, \u001b[38;5;34m1\u001b[0m)                   │              \u001b[38;5;34m33\u001b[0m │\n",
       "└──────────────────────────────────────┴─────────────────────────────┴─────────────────┘\n"
      ]
     },
     "metadata": {},
     "output_type": "display_data"
    },
    {
     "data": {
      "text/html": [
       "<pre style=\"white-space:pre;overflow-x:auto;line-height:normal;font-family:Menlo,'DejaVu Sans Mono',consolas,'Courier New',monospace\"><span style=\"font-weight: bold\"> Total params: </span><span style=\"color: #00af00; text-decoration-color: #00af00\">35,393</span> (138.25 KB)\n",
       "</pre>\n"
      ],
      "text/plain": [
       "\u001b[1m Total params: \u001b[0m\u001b[38;5;34m35,393\u001b[0m (138.25 KB)\n"
      ]
     },
     "metadata": {},
     "output_type": "display_data"
    },
    {
     "data": {
      "text/html": [
       "<pre style=\"white-space:pre;overflow-x:auto;line-height:normal;font-family:Menlo,'DejaVu Sans Mono',consolas,'Courier New',monospace\"><span style=\"font-weight: bold\"> Trainable params: </span><span style=\"color: #00af00; text-decoration-color: #00af00\">35,393</span> (138.25 KB)\n",
       "</pre>\n"
      ],
      "text/plain": [
       "\u001b[1m Trainable params: \u001b[0m\u001b[38;5;34m35,393\u001b[0m (138.25 KB)\n"
      ]
     },
     "metadata": {},
     "output_type": "display_data"
    },
    {
     "data": {
      "text/html": [
       "<pre style=\"white-space:pre;overflow-x:auto;line-height:normal;font-family:Menlo,'DejaVu Sans Mono',consolas,'Courier New',monospace\"><span style=\"font-weight: bold\"> Non-trainable params: </span><span style=\"color: #00af00; text-decoration-color: #00af00\">0</span> (0.00 B)\n",
       "</pre>\n"
      ],
      "text/plain": [
       "\u001b[1m Non-trainable params: \u001b[0m\u001b[38;5;34m0\u001b[0m (0.00 B)\n"
      ]
     },
     "metadata": {},
     "output_type": "display_data"
    }
   ],
   "source": [
    "def create_cnn_lstm_model(input_shape):\n",
    "    model = models.Sequential()\n",
    "    \n",
    "    # CNN Layer\n",
    "    model.add(layers.Conv1D(64, kernel_size=3, activation='relu', input_shape=input_shape))\n",
    "    model.add(layers.MaxPooling1D(pool_size=2))\n",
    "    \n",
    "    # LSTM Layer\n",
    "    model.add(layers.LSTM(64))\n",
    "    \n",
    "    # Fully Connected Layer\n",
    "    model.add(layers.Dense(32, activation='relu'))\n",
    "    model.add(layers.Dropout(0.3))\n",
    "    \n",
    "    # Output Layer\n",
    "    model.add(layers.Dense(1, activation='sigmoid'))\n",
    "    \n",
    "    # Compile\n",
    "    model.compile(optimizer='adam', loss='binary_crossentropy', metrics=['accuracy'])\n",
    "    \n",
    "    return model\n",
    "\n",
    "cnn_lstm_model = create_cnn_lstm_model((X_train_w2v.shape[1], 1))\n",
    "cnn_lstm_model.summary()"
   ]
  },
  {
   "cell_type": "code",
   "execution_count": 28,
   "metadata": {
    "execution": {
     "iopub.execute_input": "2025-04-04T06:10:10.046948Z",
     "iopub.status.busy": "2025-04-04T06:10:10.046476Z",
     "iopub.status.idle": "2025-04-04T08:30:47.627134Z",
     "shell.execute_reply": "2025-04-04T08:30:47.625301Z",
     "shell.execute_reply.started": "2025-04-04T06:10:10.046913Z"
    },
    "trusted": true
   },
   "outputs": [
    {
     "name": "stdout",
     "output_type": "stream",
     "text": [
      "Epoch 1/10\n",
      "\u001b[1m6554/6554\u001b[0m \u001b[32m━━━━━━━━━━━━━━━━━━━━\u001b[0m\u001b[37m\u001b[0m \u001b[1m849s\u001b[0m 129ms/step - accuracy: 0.8598 - loss: 0.3359 - val_accuracy: 0.9010 - val_loss: 0.2628 - learning_rate: 0.0010\n",
      "Epoch 2/10\n",
      "\u001b[1m6554/6554\u001b[0m \u001b[32m━━━━━━━━━━━━━━━━━━━━\u001b[0m\u001b[37m\u001b[0m \u001b[1m847s\u001b[0m 129ms/step - accuracy: 0.9017 - loss: 0.2641 - val_accuracy: 0.9025 - val_loss: 0.2531 - learning_rate: 0.0010\n",
      "Epoch 3/10\n",
      "\u001b[1m6554/6554\u001b[0m \u001b[32m━━━━━━━━━━━━━━━━━━━━\u001b[0m\u001b[37m\u001b[0m \u001b[1m843s\u001b[0m 129ms/step - accuracy: 0.9054 - loss: 0.2542 - val_accuracy: 0.9039 - val_loss: 0.2528 - learning_rate: 0.0010\n",
      "Epoch 4/10\n",
      "\u001b[1m6554/6554\u001b[0m \u001b[32m━━━━━━━━━━━━━━━━━━━━\u001b[0m\u001b[37m\u001b[0m \u001b[1m841s\u001b[0m 128ms/step - accuracy: 0.9080 - loss: 0.2507 - val_accuracy: 0.9061 - val_loss: 0.2482 - learning_rate: 0.0010\n",
      "Epoch 5/10\n",
      "\u001b[1m6554/6554\u001b[0m \u001b[32m━━━━━━━━━━━━━━━━━━━━\u001b[0m\u001b[37m\u001b[0m \u001b[1m841s\u001b[0m 128ms/step - accuracy: 0.9078 - loss: 0.2494 - val_accuracy: 0.9055 - val_loss: 0.2514 - learning_rate: 0.0010\n",
      "Epoch 6/10\n",
      "\u001b[1m6554/6554\u001b[0m \u001b[32m━━━━━━━━━━━━━━━━━━━━\u001b[0m\u001b[37m\u001b[0m \u001b[1m848s\u001b[0m 129ms/step - accuracy: 0.9079 - loss: 0.2478 - val_accuracy: 0.9076 - val_loss: 0.2436 - learning_rate: 0.0010\n",
      "Epoch 7/10\n",
      "\u001b[1m6554/6554\u001b[0m \u001b[32m━━━━━━━━━━━━━━━━━━━━\u001b[0m\u001b[37m\u001b[0m \u001b[1m840s\u001b[0m 128ms/step - accuracy: 0.9109 - loss: 0.2416 - val_accuracy: 0.9075 - val_loss: 0.2439 - learning_rate: 0.0010\n",
      "Epoch 8/10\n",
      "\u001b[1m6554/6554\u001b[0m \u001b[32m━━━━━━━━━━━━━━━━━━━━\u001b[0m\u001b[37m\u001b[0m \u001b[1m839s\u001b[0m 128ms/step - accuracy: 0.9129 - loss: 0.2368 - val_accuracy: 0.9063 - val_loss: 0.2460 - learning_rate: 0.0010\n",
      "Epoch 9/10\n",
      "\u001b[1m6554/6554\u001b[0m \u001b[32m━━━━━━━━━━━━━━━━━━━━\u001b[0m\u001b[37m\u001b[0m \u001b[1m843s\u001b[0m 129ms/step - accuracy: 0.9126 - loss: 0.2385 - val_accuracy: 0.9088 - val_loss: 0.2434 - learning_rate: 0.0010\n",
      "Epoch 10/10\n",
      "\u001b[1m6554/6554\u001b[0m \u001b[32m━━━━━━━━━━━━━━━━━━━━\u001b[0m\u001b[37m\u001b[0m \u001b[1m846s\u001b[0m 129ms/step - accuracy: 0.9129 - loss: 0.2368 - val_accuracy: 0.9087 - val_loss: 0.2411 - learning_rate: 0.0010\n"
     ]
    }
   ],
   "source": [
    "from tensorflow.keras.callbacks import ReduceLROnPlateau\n",
    "\n",
    "lr_scheduler = ReduceLROnPlateau(monitor='val_loss', factor=0.5, patience=3, min_lr=1e-3, verbose=1)\n",
    "\n",
    "# Latih model\n",
    "history = cnn_lstm_model.fit(\n",
    "    X_train_w2v, y_train_w2v,\n",
    "    epochs=10,\n",
    "    batch_size=32,\n",
    "    validation_data=(X_test_w2v, y_test_w2v),\n",
    "    callbacks=[lr_scheduler],\n",
    "    verbose=1\n",
    "    \n",
    ")"
   ]
  },
  {
   "cell_type": "code",
   "execution_count": 29,
   "metadata": {
    "execution": {
     "iopub.execute_input": "2025-04-04T08:30:57.192795Z",
     "iopub.status.busy": "2025-04-04T08:30:57.192374Z",
     "iopub.status.idle": "2025-04-04T08:32:19.881106Z",
     "shell.execute_reply": "2025-04-04T08:32:19.879832Z",
     "shell.execute_reply.started": "2025-04-04T08:30:57.192764Z"
    },
    "trusted": true
   },
   "outputs": [
    {
     "name": "stdout",
     "output_type": "stream",
     "text": [
      "\u001b[1m1639/1639\u001b[0m \u001b[32m━━━━━━━━━━━━━━━━━━━━\u001b[0m\u001b[37m\u001b[0m \u001b[1m82s\u001b[0m 50ms/step - accuracy: 0.9083 - loss: 0.2404\n",
      "Test Accuracy: 0.9087\n"
     ]
    }
   ],
   "source": [
    "loss, accuracy = cnn_lstm_model.evaluate(X_test_w2v, y_test_w2v)\n",
    "print(f\"Test Accuracy: {accuracy:.4f}\")"
   ]
  },
  {
   "cell_type": "code",
   "execution_count": 30,
   "metadata": {
    "execution": {
     "iopub.execute_input": "2025-04-04T08:32:24.446330Z",
     "iopub.status.busy": "2025-04-04T08:32:24.445848Z",
     "iopub.status.idle": "2025-04-04T08:32:24.844277Z",
     "shell.execute_reply": "2025-04-04T08:32:24.843023Z",
     "shell.execute_reply.started": "2025-04-04T08:32:24.446296Z"
    },
    "trusted": true
   },
   "outputs": [
    {
     "data": {
      "image/png": "[encoded data removed]",
      "text/plain": [
       "<Figure size 640x480 with 1 Axes>"
      ]
     },
     "metadata": {},
     "output_type": "display_data"
    },
    {
     "data": {
      "image/png": "[encoded data removed]",
      "text/plain": [
       "<Figure size 640x480 with 1 Axes>"
      ]
     },
     "metadata": {},
     "output_type": "display_data"
    }
   ],
   "source": [
    "# Plot loss\n",
    "plt.plot(history.history['loss'], label='Train Loss')\n",
    "plt.plot(history.history['val_loss'], label='Validation Loss')\n",
    "plt.xlabel('Epoch')\n",
    "plt.ylabel('Loss')\n",
    "plt.legend()\n",
    "plt.show()\n",
    "\n",
    "# Plot accuracy\n",
    "plt.plot(history.history['accuracy'], label='Train Accuracy')\n",
    "plt.plot(history.history['val_accuracy'], label='Validation Accuracy')\n",
    "plt.xlabel('Epoch')\n",
    "plt.ylabel('Accuracy')\n",
    "plt.legend()\n",
    "plt.show()"
   ]
  },
  {
   "cell_type": "code",
   "execution_count": 34,
   "metadata": {
    "execution": {
     "iopub.execute_input": "2025-04-04T08:40:37.896905Z",
     "iopub.status.busy": "2025-04-04T08:40:37.896521Z",
     "iopub.status.idle": "2025-04-04T08:42:00.894948Z",
     "shell.execute_reply": "2025-04-04T08:42:00.893483Z",
     "shell.execute_reply.started": "2025-04-04T08:40:37.896859Z"
    },
    "trusted": true
   },
   "outputs": [
    {
     "name": "stdout",
     "output_type": "stream",
     "text": [
      "\u001b[1m1639/1639\u001b[0m \u001b[32m━━━━━━━━━━━━━━━━━━━━\u001b[0m\u001b[37m\u001b[0m \u001b[1m82s\u001b[0m 50ms/step\n",
      "Laporan Klasifikasi:\n",
      "               precision    recall  f1-score   support\n",
      "\n",
      "         0.0       0.86      0.93      0.89     20820\n",
      "         1.0       0.95      0.90      0.92     31612\n",
      "\n",
      "    accuracy                           0.91     52432\n",
      "   macro avg       0.90      0.91      0.91     52432\n",
      "weighted avg       0.91      0.91      0.91     52432\n",
      "\n"
     ]
    }
   ],
   "source": [
    "# Prediksi probabilitas\n",
    "y_pred_prob = cnn_lstm_model.predict(X_test_w2v)\n",
    "\n",
    "# Konversi probabilitas ke kelas biner (0 atau 1)\n",
    "y_pred_cnn_lstm = (y_pred_prob > 0.5).astype(int)\n",
    "\n",
    "# Classification Report\n",
    "print(\"Laporan Klasifikasi:\\n\", classification_report(y_test_w2v, y_pred_cnn_lstm))"
   ]
  },
  {
   "cell_type": "markdown",
   "metadata": {},
   "source": [
    "Confusion Matrix model CNN dengan LSTM"
   ]
  },
  {
   "cell_type": "code",
   "execution_count": 35,
   "metadata": {
    "execution": {
     "iopub.execute_input": "2025-04-04T08:43:40.105562Z",
     "iopub.status.busy": "2025-04-04T08:43:40.105030Z",
     "iopub.status.idle": "2025-04-04T08:43:40.384731Z",
     "shell.execute_reply": "2025-04-04T08:43:40.383407Z",
     "shell.execute_reply.started": "2025-04-04T08:43:40.105523Z"
    },
    "trusted": true
   },
   "outputs": [
    {
     "data": {
      "image/png": "[encoded data removed]",
      "text/plain": [
       "<Figure size 600x400 with 2 Axes>"
      ]
     },
     "metadata": {},
     "output_type": "display_data"
    }
   ],
   "source": [
    "# Confusion Matrix\n",
    "cm = confusion_matrix(y_test_w2v, y_pred_cnn_lstm)\n",
    "plt.figure(figsize=(6,4))\n",
    "sns.heatmap(cm, annot=True, fmt='d', cmap='Blues', xticklabels=[\"Negative\", \"Positive\"], yticklabels=[\"Negative\", \"Positive\"])\n",
    "plt.xlabel(\"Predicted\")\n",
    "plt.ylabel(\"Actual\")\n",
    "plt.title(\"Confusion Matrix\")\n",
    "plt.show()"
   ]
  },
  {
   "cell_type": "markdown",
   "metadata": {},
   "source": [
    "Testing model CNN dengan LSTM"
   ]
  },
  {
   "cell_type": "code",
   "execution_count": 31,
   "metadata": {
    "execution": {
     "iopub.execute_input": "2025-04-04T08:32:34.367035Z",
     "iopub.status.busy": "2025-04-04T08:32:34.366634Z",
     "iopub.status.idle": "2025-04-04T08:32:34.688262Z",
     "shell.execute_reply": "2025-04-04T08:32:34.686993Z",
     "shell.execute_reply.started": "2025-04-04T08:32:34.367004Z"
    },
    "trusted": true
   },
   "outputs": [
    {
     "name": "stdout",
     "output_type": "stream",
     "text": [
      "\u001b[1m1/1\u001b[0m \u001b[32m━━━━━━━━━━━━━━━━━━━━\u001b[0m\u001b[37m\u001b[0m \u001b[1m0s\u001b[0m 258ms/step\n",
      "Teks: Pelayanan yang sangat baik! -> Sentimen: Positif\n",
      "Teks: jelek banget aplikasinya!. -> Sentimen: Negatif\n"
     ]
    }
   ],
   "source": [
    "new_texts = [\"Pelayanan yang sangat baik!\", \n",
    "             \"jelek banget aplikasinya!.\"]\n",
    "# Ubah teks menjadi vektor Word2Vec\n",
    "\n",
    "X_new_w2v = np.array([get_sentence_vector(text, model_w2v) for text in new_texts])\n",
    "\n",
    "# Prediksi dengan model yang telah dilatih\n",
    "predictions = cnn_lstm_model.predict(X_new_w2v)\n",
    "\n",
    "# Konversi hasil sigmoid menjadi label (0 atau 1)\n",
    "predicted_labels = (predictions > 0.5).astype(int)\n",
    "\n",
    "# Menampilkan hasil prediksi\n",
    "for text, label in zip(new_texts, predicted_labels):\n",
    "    sentiment = \"Positif\" if label == 1 else \"Negatif\"\n",
    "    print(f\"Teks: {text} -> Sentimen: {sentiment}\")"
   ]
  },
  {
   "cell_type": "markdown",
   "metadata": {},
   "source": [
    "#### Model CNN dan LSTM dengan KERAS TUNER"
   ]
  },
  {
   "cell_type": "code",
   "execution_count": 100,
   "metadata": {
    "execution": {
     "iopub.execute_input": "2025-04-04T21:20:06.691413Z",
     "iopub.status.busy": "2025-04-04T21:20:06.691153Z",
     "iopub.status.idle": "2025-04-04T21:20:06.699080Z",
     "shell.execute_reply": "2025-04-04T21:20:06.697420Z",
     "shell.execute_reply.started": "2025-04-04T21:20:06.691390Z"
    },
    "trusted": true
   },
   "outputs": [],
   "source": [
    "def build_model(hp):\n",
    "    model = models.Sequential()\n",
    "\n",
    "    # CNN Layer\n",
    "    model.add(layers.Conv1D(\n",
    "        filters=hp.Int('filters', min_value=32, max_value=128, step=32),\n",
    "        kernel_size=hp.Int('kernel_size', min_value=3, max_value=5, step=1),\n",
    "        activation='relu',\n",
    "        input_shape=(X_train_w2v.shape[1], 1)\n",
    "    ))\n",
    "    model.add(layers.MaxPooling1D(pool_size=2))\n",
    "\n",
    "    # LSTM Layer\n",
    "    model.add(layers.LSTM(\n",
    "        hp.Int('lstm_units', min_value=32, max_value=128, step=32)\n",
    "    ))\n",
    "\n",
    "    # Fully Connected Layer\n",
    "    model.add(layers.Dense(\n",
    "        units=hp.Int('dense_units', min_value=16, max_value=64, step=16),\n",
    "        activation='relu'\n",
    "    ))\n",
    "    model.add(layers.Dropout(hp.Float('dropout', min_value=0.2, max_value=0.5, step=0.1)))\n",
    "\n",
    "    # Output Layer\n",
    "    model.add(layers.Dense(1, activation='sigmoid'))\n",
    "\n",
    "    # Compile Model\n",
    "    model.compile(\n",
    "        optimizer=Adam(learning_rate=hp.Choice('learning_rate', values=[0.001, 0.0005, 0.0001])),\n",
    "        loss='binary_crossentropy',\n",
    "        metrics=['accuracy']\n",
    "    )\n",
    "\n",
    "    return model"
   ]
  },
  {
   "cell_type": "code",
   "execution_count": 101,
   "metadata": {
    "trusted": true
   },
   "outputs": [
    {
     "name": "stdout",
     "output_type": "stream",
     "text": [
      "Reloading Tuner from tuner_results\\cnn_lstm_tuning\\tuner0.json\n"
     ]
    }
   ],
   "source": [
    "from keras_tuner.tuners import RandomSearch\n",
    "\n",
    "# Inisialisasi tuner\n",
    "tuner = RandomSearch(\n",
    "    build_model,\n",
    "    objective='val_accuracy',\n",
    "    max_trials=10,\n",
    "    executions_per_trial=1,\n",
    "    directory='tuner_results',  \n",
    "    project_name='cnn_lstm_tuning'\n",
    ")\n",
    "\n",
    "# Menjalankan tuning\n",
    "tuner.search(\n",
    "    X_train_w2v, y_train_w2v,\n",
    "    epochs=10,\n",
    "    batch_size=32,\n",
    "    validation_data=(X_test_w2v, y_test_w2v),\n",
    "    verbose=1\n",
    ")"
   ]
  },
  {
   "cell_type": "code",
   "execution_count": 102,
   "metadata": {},
   "outputs": [
    {
     "name": "stdout",
     "output_type": "stream",
     "text": [
      "\n",
      "Optimal Parameters:\n",
      "- Filters: 128\n",
      "- Kernel Size: 5\n",
      "- LSTM Units: 96\n",
      "- Dense Units: 64\n",
      "- Dropout: 0.30000000000000004\n",
      "- Learning Rate: 0.0005\n",
      "\n",
      "Model: \"sequential\"\n",
      "_________________________________________________________________\n",
      " Layer (type)                Output Shape              Param #   \n",
      "=================================================================\n",
      " conv1d (Conv1D)             (None, 496, 128)          768       \n",
      "                                                                 \n",
      " max_pooling1d (MaxPooling1D  (None, 248, 128)         0         \n",
      " )                                                               \n",
      "                                                                 \n",
      " lstm (LSTM)                 (None, 96)                86400     \n",
      "                                                                 \n",
      " dense (Dense)               (None, 64)                6208      \n",
      "                                                                 \n",
      " dropout (Dropout)           (None, 64)                0         \n",
      "                                                                 \n",
      " dense_1 (Dense)             (None, 1)                 65        \n",
      "                                                                 \n",
      "=================================================================\n",
      "Total params: 93,441\n",
      "Trainable params: 93,441\n",
      "Non-trainable params: 0\n",
      "_________________________________________________________________\n"
     ]
    }
   ],
   "source": [
    "# Menampilkan hasil tuning\n",
    "best_hps = tuner.get_best_hyperparameters(num_trials=1)[0]\n",
    "\n",
    "print(f\"\"\"\n",
    "Optimal Parameters:\n",
    "- Filters: {best_hps.get('filters')}\n",
    "- Kernel Size: {best_hps.get('kernel_size')}\n",
    "- LSTM Units: {best_hps.get('lstm_units')}\n",
    "- Dense Units: {best_hps.get('dense_units')}\n",
    "- Dropout: {best_hps.get('dropout')}\n",
    "- Learning Rate: {best_hps.get('learning_rate')}\n",
    "\"\"\")\n",
    "\n",
    "# Menggunakan model terbaik\n",
    "best_model = tuner.get_best_models(num_models=1)[0]\n",
    "\n",
    "# Melihat ringkasan model terbaik\n",
    "best_model.summary()\n"
   ]
  },
  {
   "cell_type": "code",
   "execution_count": 103,
   "metadata": {},
   "outputs": [],
   "source": [
    "from tensorflow.keras.callbacks import EarlyStopping, ReduceLROnPlateau, Callback\n",
    "\n",
    "early_stop = EarlyStopping(monitor='val_loss', patience=3, restore_best_weights=True, verbose=1)\n",
    "lr_scheduler = ReduceLROnPlateau(monitor='val_loss', factor=0.5, patience=2, min_lr=1e-6, verbose=1)\n",
    "\n",
    "class StopAtAccuracy(Callback):\n",
    "    def __init__(self, target_acc=0.93):\n",
    "        super(StopAtAccuracy, self).__init__()\n",
    "        self.target_acc = target_acc\n",
    "\n",
    "    def on_epoch_end(self, epoch, logs=None):\n",
    "        acc = logs.get(\"val_accuracy\")\n",
    "        if acc is not None and acc >= self.target_acc:\n",
    "            print(f\"\\n✅ Target val_accuracy {self.target_acc*100:.2f}% tercapai, menghentikan training...\")\n",
    "            self.model.stop_training = True"
   ]
  },
  {
   "cell_type": "code",
   "execution_count": null,
   "metadata": {},
   "outputs": [],
   "source": [
    "stop_acc_callback = StopAtAccuracy(target_acc=0.93)\n",
    "\n",
    "# Latih model dengan hyperparameter terbaik\n",
    "history = best_model.fit(\n",
    "    X_train_w2v, y_train_w2v,\n",
    "    epochs=30,\n",
    "    batch_size=32,\n",
    "    validation_data=(X_test_w2v, y_test_w2v),\n",
    "    verbose=1,\n",
    "    callbacks=[early_stop, lr_scheduler, stop_acc_callback]\n",
    ")"
   ]
  },
  {
   "cell_type": "code",
   "execution_count": null,
   "metadata": {},
   "outputs": [
    {
     "data": {
      "image/png": "[encoded data removed]",
      "text/plain": [
       "<Figure size 640x480 with 1 Axes>"
      ]
     },
     "metadata": {},
     "output_type": "display_data"
    },
    {
     "data": {
      "image/png": "[encoded data removed]",
      "text/plain": [
       "<Figure size 640x480 with 1 Axes>"
      ]
     },
     "metadata": {},
     "output_type": "display_data"
    }
   ],
   "source": [
    "# Plot akurasi\n",
    "plt.plot(history.history['accuracy'], label='Train Accuracy')\n",
    "plt.plot(history.history['val_accuracy'], label='Val Accuracy')\n",
    "plt.title('Model Accuracy')\n",
    "plt.xlabel('Epoch')\n",
    "plt.ylabel('Accuracy')\n",
    "plt.legend()\n",
    "plt.show()\n",
    "\n",
    "# Plot loss\n",
    "plt.plot(history.history['loss'], label='Train Loss')\n",
    "plt.plot(history.history['val_loss'], label='Val Loss')\n",
    "plt.title('Model Loss')\n",
    "plt.xlabel('Epoch')\n",
    "plt.ylabel('Loss')\n",
    "plt.legend()\n",
    "plt.show()\n"
   ]
  },
  {
   "cell_type": "code",
   "execution_count": null,
   "metadata": {
    "execution": {
     "iopub.status.busy": "2025-04-02T23:55:51.336213Z",
     "iopub.status.idle": "2025-04-02T23:55:51.336466Z",
     "shell.execute_reply": "2025-04-02T23:55:51.336354Z"
    },
    "trusted": true
   },
   "outputs": [
    {
     "name": "stdout",
     "output_type": "stream",
     "text": [
      "1639/1639 [==============================] - 440s 268ms/step - loss: 0.2313 - accuracy: 0.9129\n",
      "Test Accuracy: 0.9129\n"
     ]
    }
   ],
   "source": [
    "# Evaluasi model di data test\n",
    "loss, accuracy = best_model.evaluate(X_test_w2v, y_test_w2v)\n",
    "print(f\"Test Accuracy: {accuracy:.4f}\")\n"
   ]
  },
  {
   "cell_type": "code",
   "execution_count": null,
   "metadata": {
    "execution": {
     "iopub.status.busy": "2025-04-02T23:55:51.337097Z",
     "iopub.status.idle": "2025-04-02T23:55:51.337369Z",
     "shell.execute_reply": "2025-04-02T23:55:51.337228Z"
    },
    "trusted": true
   },
   "outputs": [
    {
     "name": "stdout",
     "output_type": "stream",
     "text": [
      "1639/1639 [==============================] - 562s 340ms/step\n",
      "Classification Report:\n",
      "               precision    recall  f1-score   support\n",
      "\n",
      "         0.0       0.87      0.92      0.89     20820\n",
      "         1.0       0.95      0.91      0.93     31612\n",
      "\n",
      "    accuracy                           0.91     52432\n",
      "   macro avg       0.91      0.91      0.91     52432\n",
      "weighted avg       0.91      0.91      0.91     52432\n",
      "\n"
     ]
    },
    {
     "data": {
      "image/png": "[encoded data removed]",
      "text/plain": [
       "<Figure size 640x480 with 2 Axes>"
      ]
     },
     "metadata": {},
     "output_type": "display_data"
    }
   ],
   "source": [
    "# Prediksi\n",
    "y_pred_prob = best_model.predict(X_test_w2v)\n",
    "y_pred = (y_pred_prob > 0.5).astype(int)\n",
    "\n",
    "# Laporan klasifikasi\n",
    "print(\"Classification Report:\\n\", classification_report(y_test_w2v, y_pred))\n",
    "\n",
    "# Confusion Matrix\n",
    "cm = confusion_matrix(y_test_w2v, y_pred)\n",
    "sns.heatmap(cm, annot=True, fmt='d', cmap='Blues', xticklabels=['Negatif', 'Positif'], yticklabels=['Negatif', 'Positif'])\n",
    "plt.xlabel('Predicted')\n",
    "plt.ylabel('Actual')\n",
    "plt.title('Confusion Matrix')\n",
    "plt.show()"
   ]
  },
  {
   "cell_type": "code",
   "execution_count": null,
   "metadata": {
    "execution": {
     "iopub.status.busy": "2025-04-02T23:55:51.337814Z",
     "iopub.status.idle": "2025-04-02T23:55:51.338029Z",
     "shell.execute_reply": "2025-04-02T23:55:51.337941Z"
    },
    "trusted": true
   },
   "outputs": [
    {
     "name": "stdout",
     "output_type": "stream",
     "text": [
      "1/1 [==============================] - 0s 234ms/step\n",
      "Teks: Aplikasinya memudahkan transfer banget -> Sentimen: Positif\n",
      "Teks: setiap tf kena biaya admin, rugi banget -> Sentimen: Negatif\n"
     ]
    }
   ],
   "source": [
    "new_texts = [\"Aplikasinya memudahkan transfer banget\", \n",
    "             \"setiap tf kena biaya admin, rugi banget\"]\n",
    "# Ubah teks menjadi vektor Word2Vec\n",
    "\n",
    "X_new_w2v = np.array([get_sentence_vector(text, model_w2v) for text in new_texts])\n",
    "\n",
    "# Prediksi dengan model yang telah dilatih\n",
    "predictions = best_model.predict(X_new_w2v)\n",
    "\n",
    "# Konversi hasil sigmoid menjadi label (0 atau 1)\n",
    "predicted_labels = (predictions > 0.5).astype(int)\n",
    "\n",
    "# Menampilkan hasil prediksi\n",
    "for text, label in zip(new_texts, predicted_labels):\n",
    "    sentiment = \"Positif\" if label == 1 else \"Negatif\"\n",
    "    print(f\"Teks: {text} -> Sentimen: {sentiment}\")"
   ]
  },
  {
   "cell_type": "markdown",
   "metadata": {},
   "source": []
  }
 ],
 "metadata": {
  "kaggle": {
   "accelerator": "none",
   "dataSources": [
    {
     "datasetId": 6996143,
     "sourceId": 11204839,
     "sourceType": "datasetVersion"
    }
   ],
   "dockerImageVersionId": 30918,
   "isGpuEnabled": false,
   "isInternetEnabled": false,
   "language": "python",
   "sourceType": "notebook"
  },
  "kernelspec": {
   "display_name": "tensorflow",
   "language": "python",
   "name": "python3"
  },
  "language_info": {
   "codemirror_mode": {
    "name": "ipython",
    "version": 3
   },
   "file_extension": ".py",
   "mimetype": "text/x-python",
   "name": "python",
   "nbconvert_exporter": "python",
   "pygments_lexer": "ipython3",
   "version": "3.9.19"
  }
 },
 "nbformat": 4,
 "nbformat_minor": 4
}
